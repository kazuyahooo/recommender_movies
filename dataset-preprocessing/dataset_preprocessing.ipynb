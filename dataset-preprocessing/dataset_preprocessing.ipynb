{
 "cells": [
  {
   "cell_type": "code",
   "execution_count": 1,
   "metadata": {
    "collapsed": true
   },
   "outputs": [],
   "source": [
    "import pandas as pd\n",
    "from datetime import datetime\n",
    "import csv"
   ]
  },
  {
   "cell_type": "code",
   "execution_count": 1,
   "outputs": [
    {
     "name": "stdout",
     "output_type": "stream",
     "text": [
      "['1:\\n', '1488844,3,2005-09-06\\n', '822109,5,2005-05-13\\n', '885013,4,2005-10-19\\n', '30878,4,2005-12-26\\n', '823519,3,2004-05-03']\n"
     ]
    }
   ],
   "source": [
    "# discribe netflix data\n",
    "file1 = open('./netflix_prize_data/test.txt')\n",
    "print(file1.readlines())"
   ],
   "metadata": {
    "collapsed": false,
    "pycharm": {
     "name": "#%%\n"
    }
   }
  },
  {
   "cell_type": "code",
   "execution_count": 3,
   "outputs": [
    {
     "name": "stdout",
     "output_type": "stream",
     "text": [
      "Time taken: 0:01:47.374506\n"
     ]
    }
   ],
   "source": [
    "# combine netflix data\n",
    "start = datetime.now()\n",
    "data = open('data.csv','w')\n",
    "row = list()\n",
    "files = [\n",
    "    './netflix_prize_data/combined_data_1.txt',\n",
    "    './netflix_prize_data/combined_data_2.txt',\n",
    "    './netflix_prize_data/combined_data_3.txt',\n",
    "    './netflix_prize_data/combined_data_4.txt'\n",
    "]\n",
    "for file in files:\n",
    "    with open(file) as f:\n",
    "        for line in f:\n",
    "            line = line.strip()\n",
    "            if line.endswith(':'):\n",
    "                movie_id = line.replace(':','')\n",
    "            else:\n",
    "                row = [x for x in line.split(',')]\n",
    "                row.insert(0,movie_id)\n",
    "                data.write(','.join(row))\n",
    "                data.write('\\n')\n",
    "data.close()\n",
    "print('Time taken:',datetime.now()-start)"
   ],
   "metadata": {
    "collapsed": false,
    "pycharm": {
     "name": "#%%\n"
    }
   }
  },
  {
   "cell_type": "code",
   "execution_count": 2,
   "outputs": [
    {
     "data": {
      "text/plain": "          movieId  userId  rating       date\n79334307    14358       6       2 2005-12-04\n34092597     6134       6       4 2005-01-12\n32652672     5926       6       4 2005-10-26\n38173947     6797       6       3 2004-11-10\n20618167     3905       6       3 2005-12-04",
      "text/html": "<div>\n<style scoped>\n    .dataframe tbody tr th:only-of-type {\n        vertical-align: middle;\n    }\n\n    .dataframe tbody tr th {\n        vertical-align: top;\n    }\n\n    .dataframe thead th {\n        text-align: right;\n    }\n</style>\n<table border=\"1\" class=\"dataframe\">\n  <thead>\n    <tr style=\"text-align: right;\">\n      <th></th>\n      <th>movieId</th>\n      <th>userId</th>\n      <th>rating</th>\n      <th>date</th>\n    </tr>\n  </thead>\n  <tbody>\n    <tr>\n      <th>79334307</th>\n      <td>14358</td>\n      <td>6</td>\n      <td>2</td>\n      <td>2005-12-04</td>\n    </tr>\n    <tr>\n      <th>34092597</th>\n      <td>6134</td>\n      <td>6</td>\n      <td>4</td>\n      <td>2005-01-12</td>\n    </tr>\n    <tr>\n      <th>32652672</th>\n      <td>5926</td>\n      <td>6</td>\n      <td>4</td>\n      <td>2005-10-26</td>\n    </tr>\n    <tr>\n      <th>38173947</th>\n      <td>6797</td>\n      <td>6</td>\n      <td>3</td>\n      <td>2004-11-10</td>\n    </tr>\n    <tr>\n      <th>20618167</th>\n      <td>3905</td>\n      <td>6</td>\n      <td>3</td>\n      <td>2005-12-04</td>\n    </tr>\n  </tbody>\n</table>\n</div>"
     },
     "execution_count": 2,
     "metadata": {},
     "output_type": "execute_result"
    }
   ],
   "source": [
    "df = pd.read_csv('data.csv',sep=',',names=['movieId','userId','rating','date'])\n",
    "df.date = pd.to_datetime(df.date)\n",
    "df.sort_values(by='userId',inplace=True)\n",
    "df.head()"
   ],
   "metadata": {
    "collapsed": false,
    "pycharm": {
     "name": "#%%\n"
    }
   }
  },
  {
   "cell_type": "code",
   "execution_count": 15,
   "outputs": [
    {
     "name": "stdout",
     "output_type": "stream",
     "text": [
      "100480507\n"
     ]
    }
   ],
   "source": [
    "df.to_csv('netflix_data_noindex.csv',index=False)\n",
    "print(len(df))"
   ],
   "metadata": {
    "collapsed": false,
    "pycharm": {
     "name": "#%%\n"
    }
   }
  },
  {
   "cell_type": "code",
   "execution_count": 16,
   "outputs": [],
   "source": [
    "df_25M = df[:25000000]\n",
    "df_25M.to_csv('netflix_data_25M.csv',index=False)"
   ],
   "metadata": {
    "collapsed": false,
    "pycharm": {
     "name": "#%%\n"
    }
   }
  },
  {
   "cell_type": "code",
   "execution_count": 3,
   "outputs": [
    {
     "data": {
      "text/plain": "119857"
     },
     "execution_count": 3,
     "metadata": {},
     "output_type": "execute_result"
    }
   ],
   "source": [
    "# see how many user rating\n",
    "a = set(df_25M.userId.tolist())\n",
    "len(a)"
   ],
   "metadata": {
    "collapsed": false,
    "pycharm": {
     "name": "#%%\n"
    }
   }
  },
  {
   "cell_type": "code",
   "execution_count": null,
   "outputs": [],
   "source": [
    "# add column name in movie_titles.csv\n",
    "movie_title = pd.read_csv('./netflix_prize_data/movie_titles.csv',names=['movieId','year','movie'],encoding = \"ISO-8859-1\",error_bad_lines=False)\n",
    "movie_title.to_csv('netflix_movie.csv',index=False)"
   ],
   "metadata": {
    "collapsed": false,
    "pycharm": {
     "name": "#%%\n",
     "is_executing": true
    }
   }
  },
  {
   "cell_type": "code",
   "execution_count": 8,
   "outputs": [
    {
     "name": "stdout",
     "output_type": "stream",
     "text": [
      "6111\n",
      "8455\n"
     ]
    }
   ],
   "source": [
    "# disney data preprocessing\n",
    "disney = pd.read_csv('disney.csv')\n",
    "pre_name = []\n",
    "name = []\n",
    "for row in disney['author_name']:\n",
    "    pre_name.append(row)\n",
    "    if row not in name:\n",
    "        name.append(row)\n",
    "print(len(name)) # no repeat user\n",
    "print(len(pre_name))"
   ],
   "metadata": {
    "collapsed": false,
    "pycharm": {
     "name": "#%%\n"
    }
   }
  },
  {
   "cell_type": "code",
   "execution_count": 11,
   "outputs": [],
   "source": [
    "# create user and it userId\n",
    "list = []\n",
    "rowname = ['userID','user']\n",
    "for idx, user in enumerate(name):\n",
    "    id_user = [idx,user]\n",
    "    list.append(id_user)\n",
    "with open('disney_user.csv','w',newline='',encoding='utf-8') as f:\n",
    "    writer = csv.writer(f)\n",
    "    writer.writerow(rowname)\n",
    "    writer.writerows(list)"
   ],
   "metadata": {
    "collapsed": false,
    "pycharm": {
     "name": "#%%\n"
    }
   }
  },
  {
   "cell_type": "code",
   "execution_count": 14,
   "outputs": [],
   "source": [
    "# translate score 1-10 t0 1-5\n",
    "translate = []\n",
    "for num in disney['score']:\n",
    "    new_num = round(((num-1)/(10-1))*(5-1) + 1)\n",
    "    translate.append(new_num)\n",
    "disney['rating'] = translate"
   ],
   "metadata": {
    "collapsed": false,
    "pycharm": {
     "name": "#%%\n"
    }
   }
  },
  {
   "cell_type": "code",
   "execution_count": 46,
   "outputs": [
    {
     "name": "stdout",
     "output_type": "stream",
     "text": [
      "21\n",
      "8455\n"
     ]
    }
   ],
   "source": [
    "pre_film_name = []\n",
    "film_name = []\n",
    "for row in disney['film_name']:\n",
    "    pre_film_name.append(row)\n",
    "    if row not in film_name:\n",
    "        film_name.append(row)\n",
    "print(len(film_name))\n",
    "print(len(pre_film_name))"
   ],
   "metadata": {
    "collapsed": false,
    "pycharm": {
     "name": "#%%\n"
    }
   }
  },
  {
   "cell_type": "code",
   "execution_count": 49,
   "outputs": [],
   "source": [
    "# create movie and movieId\n",
    "list = []\n",
    "rowname = ['movieId','movie']\n",
    "for idx, user in enumerate(film_name):\n",
    "    id_user = [idx,user]\n",
    "    list.append(id_user)\n",
    "with open('disney_movie.csv','w',newline='',encoding='utf-8') as f:\n",
    "    writer = csv.writer(f)\n",
    "    writer.writerow(rowname)\n",
    "    writer.writerows(list)"
   ],
   "metadata": {
    "collapsed": false,
    "pycharm": {
     "name": "#%%\n"
    }
   }
  },
  {
   "cell_type": "code",
   "execution_count": null,
   "outputs": [],
   "source": [
    "# create user and userId dictionary\n",
    "values = range(6111)\n",
    "keys = name\n",
    "user_dict=dict(zip(keys,values))\n",
    "# print(user_dict)"
   ],
   "metadata": {
    "collapsed": false,
    "pycharm": {
     "name": "#%%\n",
     "is_executing": true
    }
   }
  },
  {
   "cell_type": "code",
   "execution_count": null,
   "outputs": [],
   "source": [
    "# use dictionary to translate author name(user) in order to get userId\n",
    "userID = []\n",
    "for user in disney['author_name']:\n",
    "    if user in user_dict.keys():\n",
    "        userid = user_dict.get(user)\n",
    "        userID.append(userid)\n",
    "# print(len(userID))\n",
    "# print(userID)"
   ],
   "metadata": {
    "collapsed": false,
    "pycharm": {
     "name": "#%%\n",
     "is_executing": true
    }
   }
  },
  {
   "cell_type": "code",
   "execution_count": 48,
   "outputs": [
    {
     "data": {
      "text/plain": "   film_name  film_year         author_name  review_date  score  \\\n0  Peter pan       1953        SpencerDeane  26 Jun 2018      9   \n1  Peter pan       1953        AdrianaAdams  20 May 2015     10   \n2  Peter pan       1953       lukeduke20164  10 Oct 2018      8   \n3  Peter pan       1953  witch-nikki-porras  14 Jul 2013      0   \n4  Peter pan       1953       sarah-tranter  27 Dec 2004      7   \n\n                   title_name  \\\n0                Pretty great   \n1           childhood classic   \n2                    Awesome!   \n3                 Racial Song   \n4  One of Disney's classics!!   \n\n                                         review_text    POU  rating  userId  \n0  This is a great classic for all ages. I recomm...   0.00       5       0  \n1  A childhood classic that is still enjoyable to...  33.33       5       1  \n2  Nice movie! It has that animation that is kind...   0.00       4       2  \n3  The song \"What makes a Red Man Red?\" IS terrib...  11.11       1       3  \n4                                                NaN  40.00       4       4  ",
      "text/html": "<div>\n<style scoped>\n    .dataframe tbody tr th:only-of-type {\n        vertical-align: middle;\n    }\n\n    .dataframe tbody tr th {\n        vertical-align: top;\n    }\n\n    .dataframe thead th {\n        text-align: right;\n    }\n</style>\n<table border=\"1\" class=\"dataframe\">\n  <thead>\n    <tr style=\"text-align: right;\">\n      <th></th>\n      <th>film_name</th>\n      <th>film_year</th>\n      <th>author_name</th>\n      <th>review_date</th>\n      <th>score</th>\n      <th>title_name</th>\n      <th>review_text</th>\n      <th>POU</th>\n      <th>rating</th>\n      <th>userId</th>\n    </tr>\n  </thead>\n  <tbody>\n    <tr>\n      <th>0</th>\n      <td>Peter pan</td>\n      <td>1953</td>\n      <td>SpencerDeane</td>\n      <td>26 Jun 2018</td>\n      <td>9</td>\n      <td>Pretty great</td>\n      <td>This is a great classic for all ages. I recomm...</td>\n      <td>0.00</td>\n      <td>5</td>\n      <td>0</td>\n    </tr>\n    <tr>\n      <th>1</th>\n      <td>Peter pan</td>\n      <td>1953</td>\n      <td>AdrianaAdams</td>\n      <td>20 May 2015</td>\n      <td>10</td>\n      <td>childhood classic</td>\n      <td>A childhood classic that is still enjoyable to...</td>\n      <td>33.33</td>\n      <td>5</td>\n      <td>1</td>\n    </tr>\n    <tr>\n      <th>2</th>\n      <td>Peter pan</td>\n      <td>1953</td>\n      <td>lukeduke20164</td>\n      <td>10 Oct 2018</td>\n      <td>8</td>\n      <td>Awesome!</td>\n      <td>Nice movie! It has that animation that is kind...</td>\n      <td>0.00</td>\n      <td>4</td>\n      <td>2</td>\n    </tr>\n    <tr>\n      <th>3</th>\n      <td>Peter pan</td>\n      <td>1953</td>\n      <td>witch-nikki-porras</td>\n      <td>14 Jul 2013</td>\n      <td>0</td>\n      <td>Racial Song</td>\n      <td>The song \"What makes a Red Man Red?\" IS terrib...</td>\n      <td>11.11</td>\n      <td>1</td>\n      <td>3</td>\n    </tr>\n    <tr>\n      <th>4</th>\n      <td>Peter pan</td>\n      <td>1953</td>\n      <td>sarah-tranter</td>\n      <td>27 Dec 2004</td>\n      <td>7</td>\n      <td>One of Disney's classics!!</td>\n      <td>NaN</td>\n      <td>40.00</td>\n      <td>4</td>\n      <td>4</td>\n    </tr>\n  </tbody>\n</table>\n</div>"
     },
     "execution_count": 48,
     "metadata": {},
     "output_type": "execute_result"
    }
   ],
   "source": [
    "disney['userId'] = userID\n",
    "disney.head(5)"
   ],
   "metadata": {
    "collapsed": false,
    "pycharm": {
     "name": "#%%\n"
    }
   }
  },
  {
   "cell_type": "code",
   "execution_count": 51,
   "outputs": [
    {
     "name": "stdout",
     "output_type": "stream",
     "text": [
      "{'Peter pan': 0, 'Alice nel paese delle meraviglie': 1, 'Cenerentola': 2, 'La Spada nella Roccia': 3, 'The Jungle Book': 4, 'Mary Poppins': 5, 'The Aristocats': 6, 'The Rescuers': 7, 'The Many Adventures of Winnie the Pooh': 8, 'The Little Mermaid': 9, 'Tron': 10, 'Oliver & Company': 11, 'Aladdin': 12, 'The Lion King': 13, 'Hercules': 14, \"The Emperor's New Groove\": 15, 'Spirited Away': 16, 'Lilo & Stitch': 17, 'Tangled': 18, 'Brave': 19, 'Frozen': 20}\n"
     ]
    }
   ],
   "source": [
    "# create movie amd movieId dictionary\n",
    "values = range(21)\n",
    "keys = film_name\n",
    "movie_dict=dict(zip(keys,values))\n",
    "print(movie_dict)"
   ],
   "metadata": {
    "collapsed": false,
    "pycharm": {
     "name": "#%%\n"
    }
   }
  },
  {
   "cell_type": "code",
   "execution_count": null,
   "outputs": [],
   "source": [
    "# use dictionary to translate film name(user) in order to get movieId\n",
    "movieID = []\n",
    "for name in disney['film_name']:\n",
    "    if name in movie_dict.keys():\n",
    "        movieid = movie_dict.get(name)\n",
    "        movieID.append(movieid)\n",
    "# print(len(movieID))\n",
    "# print(movieID)"
   ],
   "metadata": {
    "collapsed": false,
    "pycharm": {
     "name": "#%%\n",
     "is_executing": true
    }
   }
  },
  {
   "cell_type": "code",
   "execution_count": 53,
   "outputs": [
    {
     "data": {
      "text/plain": "   film_name  film_year         author_name  review_date  score  \\\n0  Peter pan       1953        SpencerDeane  26 Jun 2018      9   \n1  Peter pan       1953        AdrianaAdams  20 May 2015     10   \n2  Peter pan       1953       lukeduke20164  10 Oct 2018      8   \n3  Peter pan       1953  witch-nikki-porras  14 Jul 2013      0   \n4  Peter pan       1953       sarah-tranter  27 Dec 2004      7   \n\n                   title_name  \\\n0                Pretty great   \n1           childhood classic   \n2                    Awesome!   \n3                 Racial Song   \n4  One of Disney's classics!!   \n\n                                         review_text    POU  rating  userId  \\\n0  This is a great classic for all ages. I recomm...   0.00       5       0   \n1  A childhood classic that is still enjoyable to...  33.33       5       1   \n2  Nice movie! It has that animation that is kind...   0.00       4       2   \n3  The song \"What makes a Red Man Red?\" IS terrib...  11.11       1       3   \n4                                                NaN  40.00       4       4   \n\n   movieId  \n0        0  \n1        0  \n2        0  \n3        0  \n4        0  ",
      "text/html": "<div>\n<style scoped>\n    .dataframe tbody tr th:only-of-type {\n        vertical-align: middle;\n    }\n\n    .dataframe tbody tr th {\n        vertical-align: top;\n    }\n\n    .dataframe thead th {\n        text-align: right;\n    }\n</style>\n<table border=\"1\" class=\"dataframe\">\n  <thead>\n    <tr style=\"text-align: right;\">\n      <th></th>\n      <th>film_name</th>\n      <th>film_year</th>\n      <th>author_name</th>\n      <th>review_date</th>\n      <th>score</th>\n      <th>title_name</th>\n      <th>review_text</th>\n      <th>POU</th>\n      <th>rating</th>\n      <th>userId</th>\n      <th>movieId</th>\n    </tr>\n  </thead>\n  <tbody>\n    <tr>\n      <th>0</th>\n      <td>Peter pan</td>\n      <td>1953</td>\n      <td>SpencerDeane</td>\n      <td>26 Jun 2018</td>\n      <td>9</td>\n      <td>Pretty great</td>\n      <td>This is a great classic for all ages. I recomm...</td>\n      <td>0.00</td>\n      <td>5</td>\n      <td>0</td>\n      <td>0</td>\n    </tr>\n    <tr>\n      <th>1</th>\n      <td>Peter pan</td>\n      <td>1953</td>\n      <td>AdrianaAdams</td>\n      <td>20 May 2015</td>\n      <td>10</td>\n      <td>childhood classic</td>\n      <td>A childhood classic that is still enjoyable to...</td>\n      <td>33.33</td>\n      <td>5</td>\n      <td>1</td>\n      <td>0</td>\n    </tr>\n    <tr>\n      <th>2</th>\n      <td>Peter pan</td>\n      <td>1953</td>\n      <td>lukeduke20164</td>\n      <td>10 Oct 2018</td>\n      <td>8</td>\n      <td>Awesome!</td>\n      <td>Nice movie! It has that animation that is kind...</td>\n      <td>0.00</td>\n      <td>4</td>\n      <td>2</td>\n      <td>0</td>\n    </tr>\n    <tr>\n      <th>3</th>\n      <td>Peter pan</td>\n      <td>1953</td>\n      <td>witch-nikki-porras</td>\n      <td>14 Jul 2013</td>\n      <td>0</td>\n      <td>Racial Song</td>\n      <td>The song \"What makes a Red Man Red?\" IS terrib...</td>\n      <td>11.11</td>\n      <td>1</td>\n      <td>3</td>\n      <td>0</td>\n    </tr>\n    <tr>\n      <th>4</th>\n      <td>Peter pan</td>\n      <td>1953</td>\n      <td>sarah-tranter</td>\n      <td>27 Dec 2004</td>\n      <td>7</td>\n      <td>One of Disney's classics!!</td>\n      <td>NaN</td>\n      <td>40.00</td>\n      <td>4</td>\n      <td>4</td>\n      <td>0</td>\n    </tr>\n  </tbody>\n</table>\n</div>"
     },
     "execution_count": 53,
     "metadata": {},
     "output_type": "execute_result"
    }
   ],
   "source": [
    "disney['movieId'] = movieID\n",
    "disney.head(5)"
   ],
   "metadata": {
    "collapsed": false,
    "pycharm": {
     "name": "#%%\n"
    }
   }
  },
  {
   "cell_type": "code",
   "execution_count": 57,
   "outputs": [
    {
     "data": {
      "text/plain": "   film_name  film_year         author_name review_date  score  \\\n0  Peter pan       1953        SpencerDeane  2018-06-26      9   \n1  Peter pan       1953        AdrianaAdams  2015-05-20     10   \n2  Peter pan       1953       lukeduke20164  2018-10-10      8   \n3  Peter pan       1953  witch-nikki-porras  2013-07-14      0   \n4  Peter pan       1953       sarah-tranter  2004-12-27      7   \n\n                   title_name  \\\n0                Pretty great   \n1           childhood classic   \n2                    Awesome!   \n3                 Racial Song   \n4  One of Disney's classics!!   \n\n                                         review_text    POU  rating  userId  \\\n0  This is a great classic for all ages. I recomm...   0.00       5       0   \n1  A childhood classic that is still enjoyable to...  33.33       5       1   \n2  Nice movie! It has that animation that is kind...   0.00       4       2   \n3  The song \"What makes a Red Man Red?\" IS terrib...  11.11       1       3   \n4                                                NaN  40.00       4       4   \n\n   movieId       date  \n0        0 2018-06-26  \n1        0 2015-05-20  \n2        0 2018-10-10  \n3        0 2013-07-14  \n4        0 2004-12-27  ",
      "text/html": "<div>\n<style scoped>\n    .dataframe tbody tr th:only-of-type {\n        vertical-align: middle;\n    }\n\n    .dataframe tbody tr th {\n        vertical-align: top;\n    }\n\n    .dataframe thead th {\n        text-align: right;\n    }\n</style>\n<table border=\"1\" class=\"dataframe\">\n  <thead>\n    <tr style=\"text-align: right;\">\n      <th></th>\n      <th>film_name</th>\n      <th>film_year</th>\n      <th>author_name</th>\n      <th>review_date</th>\n      <th>score</th>\n      <th>title_name</th>\n      <th>review_text</th>\n      <th>POU</th>\n      <th>rating</th>\n      <th>userId</th>\n      <th>movieId</th>\n      <th>date</th>\n    </tr>\n  </thead>\n  <tbody>\n    <tr>\n      <th>0</th>\n      <td>Peter pan</td>\n      <td>1953</td>\n      <td>SpencerDeane</td>\n      <td>2018-06-26</td>\n      <td>9</td>\n      <td>Pretty great</td>\n      <td>This is a great classic for all ages. I recomm...</td>\n      <td>0.00</td>\n      <td>5</td>\n      <td>0</td>\n      <td>0</td>\n      <td>2018-06-26</td>\n    </tr>\n    <tr>\n      <th>1</th>\n      <td>Peter pan</td>\n      <td>1953</td>\n      <td>AdrianaAdams</td>\n      <td>2015-05-20</td>\n      <td>10</td>\n      <td>childhood classic</td>\n      <td>A childhood classic that is still enjoyable to...</td>\n      <td>33.33</td>\n      <td>5</td>\n      <td>1</td>\n      <td>0</td>\n      <td>2015-05-20</td>\n    </tr>\n    <tr>\n      <th>2</th>\n      <td>Peter pan</td>\n      <td>1953</td>\n      <td>lukeduke20164</td>\n      <td>2018-10-10</td>\n      <td>8</td>\n      <td>Awesome!</td>\n      <td>Nice movie! It has that animation that is kind...</td>\n      <td>0.00</td>\n      <td>4</td>\n      <td>2</td>\n      <td>0</td>\n      <td>2018-10-10</td>\n    </tr>\n    <tr>\n      <th>3</th>\n      <td>Peter pan</td>\n      <td>1953</td>\n      <td>witch-nikki-porras</td>\n      <td>2013-07-14</td>\n      <td>0</td>\n      <td>Racial Song</td>\n      <td>The song \"What makes a Red Man Red?\" IS terrib...</td>\n      <td>11.11</td>\n      <td>1</td>\n      <td>3</td>\n      <td>0</td>\n      <td>2013-07-14</td>\n    </tr>\n    <tr>\n      <th>4</th>\n      <td>Peter pan</td>\n      <td>1953</td>\n      <td>sarah-tranter</td>\n      <td>2004-12-27</td>\n      <td>7</td>\n      <td>One of Disney's classics!!</td>\n      <td>NaN</td>\n      <td>40.00</td>\n      <td>4</td>\n      <td>4</td>\n      <td>0</td>\n      <td>2004-12-27</td>\n    </tr>\n  </tbody>\n</table>\n</div>"
     },
     "execution_count": 57,
     "metadata": {},
     "output_type": "execute_result"
    }
   ],
   "source": [
    "# translate review_date to datetime type\n",
    "disney['date'] = pd.to_datetime(disney.review_date)\n",
    "disney.head(5)"
   ],
   "metadata": {
    "collapsed": false,
    "pycharm": {
     "name": "#%%\n"
    }
   }
  },
  {
   "cell_type": "code",
   "execution_count": 58,
   "outputs": [
    {
     "data": {
      "text/plain": "   rating  userId  movieId       date\n0       5       0        0 2018-06-26\n1       5       1        0 2015-05-20\n2       4       2        0 2018-10-10\n3       1       3        0 2013-07-14\n4       4       4        0 2004-12-27",
      "text/html": "<div>\n<style scoped>\n    .dataframe tbody tr th:only-of-type {\n        vertical-align: middle;\n    }\n\n    .dataframe tbody tr th {\n        vertical-align: top;\n    }\n\n    .dataframe thead th {\n        text-align: right;\n    }\n</style>\n<table border=\"1\" class=\"dataframe\">\n  <thead>\n    <tr style=\"text-align: right;\">\n      <th></th>\n      <th>rating</th>\n      <th>userId</th>\n      <th>movieId</th>\n      <th>date</th>\n    </tr>\n  </thead>\n  <tbody>\n    <tr>\n      <th>0</th>\n      <td>5</td>\n      <td>0</td>\n      <td>0</td>\n      <td>2018-06-26</td>\n    </tr>\n    <tr>\n      <th>1</th>\n      <td>5</td>\n      <td>1</td>\n      <td>0</td>\n      <td>2015-05-20</td>\n    </tr>\n    <tr>\n      <th>2</th>\n      <td>4</td>\n      <td>2</td>\n      <td>0</td>\n      <td>2018-10-10</td>\n    </tr>\n    <tr>\n      <th>3</th>\n      <td>1</td>\n      <td>3</td>\n      <td>0</td>\n      <td>2013-07-14</td>\n    </tr>\n    <tr>\n      <th>4</th>\n      <td>4</td>\n      <td>4</td>\n      <td>0</td>\n      <td>2004-12-27</td>\n    </tr>\n  </tbody>\n</table>\n</div>"
     },
     "execution_count": 58,
     "metadata": {},
     "output_type": "execute_result"
    }
   ],
   "source": [
    "new_disney = disney.drop(['film_name','film_year','author_name','review_date','score','title_name','review_text','POU'],axis=1)\n",
    "new_disney.head(5)"
   ],
   "metadata": {
    "collapsed": false,
    "pycharm": {
     "name": "#%%\n"
    }
   }
  },
  {
   "cell_type": "code",
   "execution_count": 60,
   "outputs": [
    {
     "data": {
      "text/plain": "   rating  userId  movieId       date\n0       5       0        0 2018-06-26\n1       5       1        0 2015-05-20\n2       4       2        0 2018-10-10\n3       1       3        0 2013-07-14\n4       4       4        0 2004-12-27",
      "text/html": "<div>\n<style scoped>\n    .dataframe tbody tr th:only-of-type {\n        vertical-align: middle;\n    }\n\n    .dataframe tbody tr th {\n        vertical-align: top;\n    }\n\n    .dataframe thead th {\n        text-align: right;\n    }\n</style>\n<table border=\"1\" class=\"dataframe\">\n  <thead>\n    <tr style=\"text-align: right;\">\n      <th></th>\n      <th>rating</th>\n      <th>userId</th>\n      <th>movieId</th>\n      <th>date</th>\n    </tr>\n  </thead>\n  <tbody>\n    <tr>\n      <th>0</th>\n      <td>5</td>\n      <td>0</td>\n      <td>0</td>\n      <td>2018-06-26</td>\n    </tr>\n    <tr>\n      <th>1</th>\n      <td>5</td>\n      <td>1</td>\n      <td>0</td>\n      <td>2015-05-20</td>\n    </tr>\n    <tr>\n      <th>2</th>\n      <td>4</td>\n      <td>2</td>\n      <td>0</td>\n      <td>2018-10-10</td>\n    </tr>\n    <tr>\n      <th>3</th>\n      <td>1</td>\n      <td>3</td>\n      <td>0</td>\n      <td>2013-07-14</td>\n    </tr>\n    <tr>\n      <th>4</th>\n      <td>4</td>\n      <td>4</td>\n      <td>0</td>\n      <td>2004-12-27</td>\n    </tr>\n  </tbody>\n</table>\n</div>"
     },
     "execution_count": 60,
     "metadata": {},
     "output_type": "execute_result"
    }
   ],
   "source": [
    "new_disney.sort_values(by='userId',inplace=True)\n",
    "new_disney.head(5)"
   ],
   "metadata": {
    "collapsed": false,
    "pycharm": {
     "name": "#%%\n"
    }
   }
  },
  {
   "cell_type": "code",
   "execution_count": 61,
   "outputs": [],
   "source": [
    "new_disney.to_csv('disney_data.csv',index = False)"
   ],
   "metadata": {
    "collapsed": false,
    "pycharm": {
     "name": "#%%\n"
    }
   }
  }
 ],
 "metadata": {
  "kernelspec": {
   "display_name": "Python 3",
   "language": "python",
   "name": "python3"
  },
  "language_info": {
   "codemirror_mode": {
    "name": "ipython",
    "version": 2
   },
   "file_extension": ".py",
   "mimetype": "text/x-python",
   "name": "python",
   "nbconvert_exporter": "python",
   "pygments_lexer": "ipython2",
   "version": "2.7.6"
  }
 },
 "nbformat": 4,
 "nbformat_minor": 0
}