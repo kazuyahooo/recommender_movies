{
 "cells": [
  {
   "cell_type": "code",
   "execution_count": 40,
   "id": "bda8cfe0",
   "metadata": {},
   "outputs": [],
   "source": [
    "import random\n",
    "import json\n",
    "import numpy as np\n",
    "import pandas as pd\n",
    "import pytorch_lightning as pl\n",
    "import torch\n",
    "from pytorch_lightning.callbacks import ModelCheckpoint\n",
    "from pytorch_lightning.loggers import TensorBoardLogger\n",
    "from torch.utils.data import DataLoader\n",
    "\n",
    "from recommender.models import Recommender\n",
    "from recommender.data_processing import get_context, pad_list, map_column, MASK, PAD\n"
   ]
  },
  {
   "cell_type": "code",
   "execution_count": 41,
   "id": "236be942",
   "metadata": {},
   "outputs": [
    {
     "name": "stdout",
     "output_type": "stream",
     "text": [
      "Device tensor is stored on: cpu\n",
      "True\n",
      "Device tensor is stored on: cuda:0\n"
     ]
    }
   ],
   "source": [
    "import torch\n",
    "tensor = torch.rand(3,4)\n",
    "print(f\"Device tensor is stored on: {tensor.device}\")\n",
    "# Device tensor is stored on: cpu\n",
    "\n",
    "print(torch.cuda.is_available())\n",
    "#True\n",
    "\n",
    "tensor = tensor.to('cuda')\n",
    "print(f\"Device tensor is stored on: {tensor.device}\")\n",
    "# Device tensor is stored on: cuda:0"
   ]
  },
  {
   "cell_type": "code",
   "execution_count": 42,
   "id": "f687dde3",
   "metadata": {},
   "outputs": [],
   "source": [
    "# 檔案路徑\n",
    "# data_csv_path = \"../ratings.csv\"\n",
    "# movies_path = \"../movies.csv\"\n",
    "data_csv_path = \"./netflix_prize_dataset/netflix_data_25M.csv\"\n",
    "movies_path = \"./netflix_prize_dataset/netflix_movie.csv\"\n",
    "# 檢查是否是最新的check point\n",
    "model_path = \"./recommender_models/recommender.ckpt\" "
   ]
  },
  {
   "cell_type": "code",
   "execution_count": 44,
   "id": "cac77364",
   "metadata": {},
   "outputs": [],
   "source": [
    "data = pd.read_csv(data_csv_path)\n",
    "movies = pd.read_csv(movies_path)\n"
   ]
  },
  {
   "cell_type": "code",
   "execution_count": 45,
   "id": "bb1a33bd",
   "metadata": {},
   "outputs": [],
   "source": [
    "data.sort_values(by=\"date\", inplace=True)"
   ]
  },
  {
   "cell_type": "code",
   "execution_count": 46,
   "id": "0a65c910",
   "metadata": {},
   "outputs": [],
   "source": [
    "data, mapping, inverse_mapping = map_column(data, col_name=\"movieId\")\n",
    "grp_by_train = data.groupby(by=\"userId\")"
   ]
  },
  {
   "cell_type": "code",
   "execution_count": 47,
   "id": "6923b93c",
   "metadata": {},
   "outputs": [
    {
     "data": {
      "text/plain": [
       "[376884,\n",
       " 546959,\n",
       " 238560,\n",
       " 267562,\n",
       " 333729,\n",
       " 377310,\n",
       " 635797,\n",
       " 437514,\n",
       " 235364,\n",
       " 411873]"
      ]
     },
     "execution_count": 47,
     "metadata": {},
     "output_type": "execute_result"
    }
   ],
   "source": [
    "random.sample(list(grp_by_train.groups), k=10)"
   ]
  },
  {
   "cell_type": "code",
   "execution_count": 48,
   "id": "80c7cc4e",
   "metadata": {},
   "outputs": [
    {
     "data": {
      "text/plain": [
       "<All keys matched successfully>"
      ]
     },
     "execution_count": 48,
     "metadata": {},
     "output_type": "execute_result"
    }
   ],
   "source": [
    "model = Recommender(\n",
    "        vocab_size=len(mapping) + 2,\n",
    "        lr=1e-4,\n",
    "        dropout=0.3,\n",
    "    )\n",
    "model.eval()\n",
    "model.load_state_dict(torch.load(model_path)[\"state_dict\"])"
   ]
  },
  {
   "cell_type": "code",
   "execution_count": 49,
   "id": "997385df",
   "metadata": {},
   "outputs": [],
   "source": [
    "movie_to_idx = {a: mapping[b] for a, b in zip(movies.title.tolist(), movies.movieId.tolist()) if b in mapping}\n",
    "idx_to_movie = {v: k for k, v in movie_to_idx.items()}"
   ]
  },
  {
   "cell_type": "code",
   "execution_count": 106,
   "id": "5b083cd4",
   "metadata": {},
   "outputs": [],
   "source": [
    "def NormalizeData(data):\n",
    "    return (data - np.min(data)) / (np.max(data) - np.min(data))\n",
    "\n",
    "def predict(list_movies, model, movie_to_idx, idx_to_movie):\n",
    "\n",
    "    if type(list_movies[0]) == str:\n",
    "        ids = [PAD] * (120 - len(list_movies) - 1) + [movie_to_idx[a] for a in list_movies] + [MASK]\n",
    "    else:\n",
    "        ids = [PAD] * (120 - len(list_movies) - 1) + list_movies + [MASK]\n",
    "    \n",
    "    src = torch.tensor(ids, dtype=torch.long).unsqueeze(0)\n",
    "    \n",
    "    with torch.no_grad():\n",
    "        prediction = model(src)\n",
    "    \n",
    "    masked_pred = prediction[0, -1].numpy()\n",
    "\n",
    "    masked_pred = NormalizeData(masked_pred)\n",
    "    # precision = sorted(masked_pred, reverse=True)\n",
    "    # for precision\n",
    "\n",
    "    sorted_predicted_ids = np.argsort(masked_pred).tolist()[::-1]\n",
    "    \n",
    "    sorted_predicted_ids = [a for a in sorted_predicted_ids if a not in ids]\n",
    "    \n",
    "    return [idx_to_movie[a] for a in sorted_predicted_ids[:30] if a in idx_to_movie], [masked_pred[ids] for ids in sorted_predicted_ids[:30]]\n"
   ]
  },
  {
   "cell_type": "markdown",
   "id": "1f0e44c1",
   "metadata": {},
   "source": [
    "### Senario 1: Adventure/Fantasy "
   ]
  },
  {
   "cell_type": "code",
   "execution_count": 14,
   "id": "5dae87be",
   "metadata": {},
   "outputs": [
    {
     "data": {
      "text/plain": [
       "['Shrek 2',\n",
       " 'Finding Nemo (Widescreen)',\n",
       " 'Shrek (Full-screen)',\n",
       " 'Spider-Man 2',\n",
       " 'Shark Tale',\n",
       " 'The Incredibles',\n",
       " \"Harry Potter and the Sorcerer's Stone\",\n",
       " 'The Bourne Supremacy',\n",
       " 'SpongeBob SquarePants: The Movie',\n",
       " 'Garfield: The Movie',\n",
       " 'Ice Age',\n",
       " 'Collateral',\n",
       " 'Dodgeball: A True Underdog Story',\n",
       " 'Pirates of the Caribbean: The Curse of the Black Pearl',\n",
       " 'The Terminal',\n",
       " 'The Day After Tomorrow',\n",
       " 'Troy',\n",
       " 'Elf',\n",
       " 'The Manchurian Candidate',\n",
       " 'The Princess Diaries 2: Royal Engagement',\n",
       " 'Napoleon Dynamite',\n",
       " 'The Notebook',\n",
       " 'Lord of the Rings: The Return of the King',\n",
       " 'Daddy Day Care',\n",
       " 'Anchorman: The Legend of Ron Burgundy',\n",
       " 'Aladdin: Platinum Edition',\n",
       " 'The Chronicles of Riddick',\n",
       " \"A Bug's Life\"]"
      ]
     },
     "execution_count": 14,
     "metadata": {},
     "output_type": "execute_result"
    }
   ],
   "source": [
    "# list_movies = [\"Harry Potter and the Sorcerer's Stone (a.k.a. Harry Potter and the Philosopher's Stone) (2001)\",\n",
    "            #    \"Harry Potter and the Chamber of Secrets (2002)\",\n",
    "            #    \"Harry Potter and the Prisoner of Azkaban (2004)\",\n",
    "            #    \"Harry Potter and the Goblet of Fire (2005)\"]\n",
    "list_movies=[\"Harry Potter and the Prisoner of Azkaban: Bonus Material\",\n",
    "            \"Discovering the Real World of Harry Potter\",\n",
    "            \"Harry Potter and the Chamber of Secrets\",\n",
    "            \"Harry Potter and the Prisoner of Azkaban\"]\n",
    "top_movie = predict(list_movies, model, movie_to_idx, idx_to_movie)\n",
    "top_movie"
   ]
  },
  {
   "cell_type": "markdown",
   "id": "afb4b657",
   "metadata": {},
   "source": [
    "### Senario 2:  Action/Adventure"
   ]
  },
  {
   "cell_type": "code",
   "execution_count": 15,
   "id": "96f0c5d3",
   "metadata": {},
   "outputs": [
    {
     "data": {
      "text/plain": [
       "['Daredevil vs. Spiderman',\n",
       " 'Scooby-Doo Meets Batman',\n",
       " 'Pokemon: Mewtwo Returns',\n",
       " 'Scooby-Doo',\n",
       " 'Ice Age',\n",
       " 'SpongeBob SquarePants: Halloween',\n",
       " 'SpongeBob SquarePants: Nautical Nonsense / Sponge Buddies',\n",
       " 'Jimmy Neutron: Boy Genius',\n",
       " 'Scooby-Doo and the Legend of the Vampire',\n",
       " 'Stuart Little 2',\n",
       " 'Scooby-Doo and the Reluctant Werewolf',\n",
       " 'SpongeBob SquarePants: Tales From the Deep',\n",
       " 'Scooby-Doo and the Ghoul School',\n",
       " 'SpongeBob SquarePants: Sea Stories',\n",
       " 'Scooby-Doo and the Alien Invaders',\n",
       " 'Schoolhouse Rock!: Special 30th Anniversary Edition',\n",
       " 'Justice League',\n",
       " \"Scooby-Doo's Spookiest Tales\",\n",
       " 'Harry Potter and the Chamber of Secrets',\n",
       " 'Pokemon 3: The Movie',\n",
       " 'Justice League: Justice on Trial',\n",
       " 'Lord of the Rings: The Fellowship of the Ring',\n",
       " 'Spirit: Stallion of the Cimarron',\n",
       " 'Scooby-Doo and the Cyber Chase',\n",
       " 'Scooby-Doo Meets the Harlem Globetrotters',\n",
       " 'Transformers: The Movie',\n",
       " 'Snow Dogs',\n",
       " 'Scooby-Doo Goes Hollywood',\n",
       " 'My Big Fat Greek Wedding']"
      ]
     },
     "execution_count": 15,
     "metadata": {},
     "output_type": "execute_result"
    }
   ],
   "source": [
    "# list_movies = [\"Black Panther (2017)\",\n",
    "#                \"Avengers, The (2012)\",\n",
    "#                \"Avengers: Infinity War - Part I (2018)\",\n",
    "#                \"Logan (2017)\",\n",
    "#                \"Spider-Man (2002)\",\n",
    "#                \"Spider-Man 3 (2007)\",\n",
    "#                \"Spider-Man: Far from Home (2019)\"]\n",
    "list_movies = [\"Spider-Man: The Return of the Green Goblin\",\n",
    "               \"Spider-Man\",\n",
    "               \"Spider-Man: The Venom Saga\",\n",
    "               \"Spider-Man 2: Bonus Material\",\n",
    "               \"X-Men: Evolution: Season 2\"\n",
    "]\n",
    "top_movie = predict(list_movies, model, movie_to_idx, idx_to_movie)\n",
    "top_movie"
   ]
  },
  {
   "cell_type": "markdown",
   "id": "a22ddfeb",
   "metadata": {},
   "source": [
    "### Senario 3: Comedy"
   ]
  },
  {
   "cell_type": "code",
   "execution_count": 14,
   "id": "b3f01cbc",
   "metadata": {},
   "outputs": [
    {
     "data": {
      "text/plain": [
       "['Moana (2016)',\n",
       " 'Guardians of the Galaxy 2 (2017)',\n",
       " 'Nightmare Before Christmas, The (1993)',\n",
       " 'Inside Out (2015)',\n",
       " 'Up (2009)',\n",
       " 'Breakfast Club, The (1985)',\n",
       " 'Toy Story (1995)',\n",
       " \"Ferris Bueller's Day Off (1986)\",\n",
       " 'Coco (2017)',\n",
       " 'Finding Dory (2016)',\n",
       " \"Bug's Life, A (1998)\",\n",
       " 'Pitch Perfect (2012)',\n",
       " 'Clueless (1995)',\n",
       " 'Untitled Spider-Man Reboot (2017)',\n",
       " 'Deadpool (2016)',\n",
       " 'Big Hero 6 (2014)',\n",
       " 'Toy Story 2 (1999)',\n",
       " 'Thor: Ragnarok (2017)',\n",
       " 'Groundhog Day (1993)',\n",
       " 'Forrest Gump (1994)',\n",
       " 'Easy A (2010)',\n",
       " 'Back to the Future Part II (1989)',\n",
       " 'Scott Pilgrim vs. the World (2010)',\n",
       " 'Austin Powers: International Man of Mystery (1997)',\n",
       " 'Wonder Woman (2017)',\n",
       " 'How to Train Your Dragon (2010)',\n",
       " '21 Jump Street (2012)',\n",
       " 'Beauty and the Beast (1991)',\n",
       " 'Monsters, Inc. (2001)']"
      ]
     },
     "execution_count": 14,
     "metadata": {},
     "output_type": "execute_result"
    }
   ],
   "source": [
    "# list_movies = [\"Zootopia (2016)\",\n",
    "#                \"Toy Story 3 (2010)\",\n",
    "#                \"Toy Story 4 (2019)\",\n",
    "#                \"Finding Nemo (2003)\",\n",
    "#                \"Ratatouille (2007)\",\n",
    "#                \"The Lego Movie (2014)\",\n",
    "#                \"Ghostbusters (a.k.a. Ghost Busters) (1984)\",\n",
    "#                \"Ace Ventura: When Nature Calls (1995)\"]\n",
    "# top_movie = predict(list_movies, model, movie_to_idx, idx_to_movie)\n",
    "# top_movie"
   ]
  },
  {
   "cell_type": "markdown",
   "id": "b4ab1a4c",
   "metadata": {},
   "source": [
    "### Evaluation metrics"
   ]
  },
  {
   "cell_type": "code",
   "execution_count": 103,
   "id": "8ba1cb38",
   "metadata": {},
   "outputs": [],
   "source": [
    "from sklearn import preprocessing\n",
    "random_userId = random.choice(list(set(data.userId)))"
   ]
  },
  {
   "cell_type": "code",
   "execution_count": 107,
   "id": "b8fdf1c6",
   "metadata": {},
   "outputs": [
    {
     "data": {
      "text/plain": [
       "['Shoot to Kill',\n",
       " 'Mondo Cane',\n",
       " 'Morrissey: Oye Esteban!',\n",
       " '8 Seconds',\n",
       " 'Men in Black',\n",
       " 'Friday Foster',\n",
       " 'SpongeBob SquarePants: Sea Stories',\n",
       " 'The Twilight Zone: Vol. 43',\n",
       " 'I See a Dark Stranger',\n",
       " \"It's a Wonderful Life\",\n",
       " 'The Blonde',\n",
       " 'Alive',\n",
       " 'Twister',\n",
       " 'Ozzy Osbourne: Live & Loud',\n",
       " 'Chaplin: The Collection: Vol. 1',\n",
       " 'Vampire Hunter D',\n",
       " 'The Patriot',\n",
       " 'Forrest Gump',\n",
       " 'The Gambler V: Playing for Keeps',\n",
       " 'Babe: Pig in the City',\n",
       " 'The Return',\n",
       " 'Charlie Chan: The Secret Service',\n",
       " 'The Map of Sex and Love',\n",
       " 'Adventures of Batman & Robin: The Joker/Fire & Ice',\n",
       " 'SD Gundam Force',\n",
       " 'My Louisiana Sky',\n",
       " 'Scarface: 20th Anniversary Edition',\n",
       " 'The Man Who Knew Too Little',\n",
       " 'The Judy Garland Show',\n",
       " 'Babylon 5: Season 4',\n",
       " \"Sing Faster: The Stagehands' Ring Cycle\",\n",
       " 'Lexx: Series 3',\n",
       " 'Secret Agent A.K.A. Danger Man',\n",
       " 'The Alien Saga',\n",
       " 'Life Is Beautiful',\n",
       " 'Red Dwarf: Series 4: Bonus Material',\n",
       " 'Trailer: The Movie',\n",
       " 'The Accused',\n",
       " 'The Final Hit',\n",
       " 'The King of Comedy',\n",
       " 'Moonlight Mile',\n",
       " \"Jackie Chan's Who Am I\",\n",
       " 'The Sound of Music',\n",
       " 'Laffapalooza! #2',\n",
       " 'The Girl on the Bridge',\n",
       " 'Jealousy',\n",
       " 'Heaven Help Us',\n",
       " 'Tai-Pan',\n",
       " 'The Thing With Two Heads',\n",
       " 'Grateful Dawg',\n",
       " 'Bite the Bullet',\n",
       " 'Stranger from Venus',\n",
       " 'The Frogmen',\n",
       " 'Harry Potter and the Chamber of Secrets',\n",
       " 'The Peacekeeper',\n",
       " 'O: Bonus Material',\n",
       " 'Quatermass and the Pit',\n",
       " 'Classic Albums: Steely Dan: Aja',\n",
       " 'Lethal Weapon 2',\n",
       " 'The Grudge',\n",
       " \"The Horse's Mouth\",\n",
       " 'Vanity Fair',\n",
       " \"Dawson's Creek: Season 5\",\n",
       " 'Little House on the Prairie: Season 1',\n",
       " \"Rock 'n' Roll High School\",\n",
       " 'Murder in the First',\n",
       " 'The Lady in Red',\n",
       " 'Deep in the Woods',\n",
       " \"Magic User's Club\",\n",
       " 'Once Upon a Time in China 2',\n",
       " 'Sweepers',\n",
       " 'Sacred Planet',\n",
       " 'Saved by the Bell: The New Class: Season 3',\n",
       " 'The Shining',\n",
       " 'Juggernaut',\n",
       " 'Lupin the 3rd',\n",
       " 'Staying Together',\n",
       " 'Comes a Horseman',\n",
       " 'Pickup on South Street',\n",
       " 'The Godfather Trilogy: Bonus Material',\n",
       " 'Backdraft',\n",
       " \"Billy's Hollywood Screen Kiss\",\n",
       " 'Bride of the Wind',\n",
       " '48 Hrs.',\n",
       " 'The Warriors',\n",
       " 'Blood of Beasts',\n",
       " 'Clerks',\n",
       " 'Bela Fleck and the Flecktones: Live at the Quick',\n",
       " 'Look Back in Anger',\n",
       " \"Dean Martin: That's Amore\",\n",
       " \"Bill & Ted's Excellent Adventure\",\n",
       " 'True Colors',\n",
       " 'Coyote Ugly',\n",
       " 'Strike',\n",
       " 'Army of One',\n",
       " 'Double Jeopardy',\n",
       " 'Practical Magic',\n",
       " 'Another 48 Hrs.',\n",
       " 'Crossroads',\n",
       " 'Dodge City',\n",
       " '2001: A Space Odyssey',\n",
       " 'Funny Dirty Little War',\n",
       " 'Bring It On Again',\n",
       " 'The Locusts',\n",
       " 'Hand of Death',\n",
       " 'Good Times: Season 4',\n",
       " 'Slasher',\n",
       " 'The Rock',\n",
       " 'Escape from New York',\n",
       " 'Volcano Above the Clouds: Nova',\n",
       " \"Disney's Learning Adventures: Mickey's Around the World in 80 Days: Seeing the World\",\n",
       " 'The Three Stooges: The Outlaws Is Coming',\n",
       " 'Family of Cops',\n",
       " 'Lost Reality',\n",
       " 'Boycott',\n",
       " 'Wedding Bell Blues',\n",
       " 'My Fair Lady: Special Edition: Bonus Material',\n",
       " 'Ram Dass: Fierce Grace',\n",
       " 'The Job',\n",
       " 'The Education of Little Tree',\n",
       " 'Cocktail',\n",
       " 'Foreigner: Live at Deer Creek',\n",
       " 'The Big Town',\n",
       " 'Harry Potter and the Prisoner of Azkaban',\n",
       " 'The Life of Mammals',\n",
       " \"A Knight's Tale\",\n",
       " 'White Water Summer',\n",
       " 'Battle Athletes Victory: Vol. 7: The Last Dance',\n",
       " 'Attention Shoppers',\n",
       " 'Thelma & Louise: Special Edition',\n",
       " 'The Simpsons: Season 2',\n",
       " \"Ferris Bueller's Day Off\",\n",
       " 'Airplane!',\n",
       " 'The Greatest American Hero: Season 3',\n",
       " \"Jack O'Lantern\",\n",
       " 'Hercules: Amazon Women/Lost Kingdom',\n",
       " 'Hard Target',\n",
       " 'True Lies',\n",
       " 'The Venus Wars',\n",
       " 'Club Vampire',\n",
       " 'Kotch',\n",
       " 'The Even Stevens Movie',\n",
       " 'The Maldonado Miracle',\n",
       " 'Harvard Man',\n",
       " 'Inspector Morse 3: Service of All the Dead',\n",
       " 'Read My Lips',\n",
       " \"National Lampoon's Animal House\",\n",
       " 'The American President',\n",
       " 'Spider-Man: The New Animated Series: Season 1',\n",
       " 'The Heroic Trio',\n",
       " 'A Night to Remember',\n",
       " 'The Aviator',\n",
       " 'The Jazz Channel: Jeffrey Osborne',\n",
       " 'Falling for a Dancer',\n",
       " 'Anzio',\n",
       " 'Million Dollar Baby',\n",
       " 'Copenhagen']"
      ]
     },
     "execution_count": 107,
     "metadata": {},
     "output_type": "execute_result"
    }
   ],
   "source": [
    "user_input = list(data[(data.userId == random_userId) & (data.rating == 5)]['movieId'])\n",
    "user_input = [idx_to_movie[a] for a in user_input if a in idx_to_movie]\n",
    "top_movie, test = predict(user_input, model, movie_to_idx, idx_to_movie)\n",
    "user_input"
   ]
  },
  {
   "cell_type": "code",
   "execution_count": 108,
   "id": "1d1007ca",
   "metadata": {},
   "outputs": [
    {
     "data": {
      "text/plain": [
       "[1.366352,\n",
       " 1.3386887,\n",
       " 1.334954,\n",
       " 1.3138496,\n",
       " 1.3131086,\n",
       " 1.3066211,\n",
       " 1.2845986,\n",
       " 1.2790482,\n",
       " 1.2625632,\n",
       " 1.2477815,\n",
       " 1.2407762,\n",
       " 1.2343926,\n",
       " 1.2341886,\n",
       " 1.2290834,\n",
       " 1.2199923,\n",
       " 1.21152,\n",
       " 1.208349,\n",
       " 1.2083226,\n",
       " 1.2001097,\n",
       " 1.1992903,\n",
       " 1.1773345,\n",
       " 1.1529144,\n",
       " 1.1520725,\n",
       " 1.145341,\n",
       " 1.1399326,\n",
       " 1.133071,\n",
       " 1.1300371,\n",
       " 1.1141818,\n",
       " 1.1119843,\n",
       " 1.0803291]"
      ]
     },
     "execution_count": 108,
     "metadata": {},
     "output_type": "execute_result"
    }
   ],
   "source": [
    "test"
   ]
  },
  {
   "cell_type": "code",
   "execution_count": 59,
   "id": "bc79fa72",
   "metadata": {},
   "outputs": [
    {
     "data": {
      "text/plain": [
       "['Cirque du Soleil: Alegria',\n",
       " 'The Blue Planet: Seas of Life: Seasonal Seas - Coral Seas',\n",
       " 'Horatio Hornblower: The New Adventures',\n",
       " 'Monk: Season 1',\n",
       " 'North & South: The Complete Collection',\n",
       " 'Quantum Leap: Season 1',\n",
       " 'Xena: Warrior Princess: Season 2',\n",
       " 'Horatio Hornblower',\n",
       " 'The Thin Blue Line: The Complete Lineup',\n",
       " 'Dead Like Me: Season 1',\n",
       " 'Jeeves and Wooster: Season 1',\n",
       " 'CSI: Miami: Season 1',\n",
       " 'Whales: An Unforgettable Journey: IMAX',\n",
       " \"Foyle's War: Series 1\",\n",
       " 'The Blue Planet: Seas of Life: Tidal Seas - Coasts',\n",
       " 'Keeping Up Appearances',\n",
       " 'Dark Shadows: Vol. 5',\n",
       " 'The Day After Tomorrow',\n",
       " 'Cirque du Soleil: Journey of Man: IMAX',\n",
       " 'Ring of Fire: IMAX',\n",
       " 'The Name of the Rose',\n",
       " 'Africa: The Serengeti: IMAX',\n",
       " 'Queen: Live at Wembley Stadium',\n",
       " 'The Eruption of Mount St. Helens: IMAX',\n",
       " 'Red Dwarf: Series 2',\n",
       " 'Alaska: Spirit of the Wild: IMAX',\n",
       " 'Xena: Warrior Princess: Season 1',\n",
       " 'Roswell: Season 1',\n",
       " 'Red Dwarf: Series 4',\n",
       " 'Buck Rogers in the 25th Century: The Complete Epic Series']"
      ]
     },
     "execution_count": 59,
     "metadata": {},
     "output_type": "execute_result"
    }
   ],
   "source": [
    "top_movie"
   ]
  },
  {
   "cell_type": "code",
   "execution_count": 31,
   "id": "502a07ec",
   "metadata": {},
   "outputs": [
    {
     "data": {
      "text/plain": [
       "14348    Shrek (Full-screen)\n",
       "Name: title, dtype: object"
      ]
     },
     "execution_count": 31,
     "metadata": {},
     "output_type": "execute_result"
    }
   ],
   "source": [
    "for movie in user_input:\n",
    "movies[(movies.movieId==14621)]['title']"
   ]
  }
 ],
 "metadata": {
  "interpreter": {
   "hash": "31db7151c9d4a1d195dbcabb8b392bb333f5cc12b1f977b7f7fa3fdb814a91e9"
  },
  "kernelspec": {
   "display_name": "Python 3.8.13 ('mini-project_new')",
   "language": "python",
   "name": "python3"
  },
  "language_info": {
   "codemirror_mode": {
    "name": "ipython",
    "version": 3
   },
   "file_extension": ".py",
   "mimetype": "text/x-python",
   "name": "python",
   "nbconvert_exporter": "python",
   "pygments_lexer": "ipython3",
   "version": "3.8.13"
  }
 },
 "nbformat": 4,
 "nbformat_minor": 5
}
