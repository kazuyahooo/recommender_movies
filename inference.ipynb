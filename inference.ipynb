{
 "cells": [
  {
   "cell_type": "markdown",
   "id": "851c40c1",
   "metadata": {},
   "source": [
    "### Import Packages"
   ]
  },
  {
   "cell_type": "code",
   "execution_count": 94,
   "id": "bda8cfe0",
   "metadata": {},
   "outputs": [],
   "source": [
    "import random\n",
    "import json\n",
    "import numpy as np\n",
    "import pandas as pd\n",
    "import pytorch_lightning as pl\n",
    "import torch\n",
    "from pytorch_lightning.callbacks import ModelCheckpoint\n",
    "from pytorch_lightning.loggers import TensorBoardLogger\n",
    "from torch.utils.data import DataLoader\n",
    "\n",
    "from recommender.models import Recommender\n",
    "from recommender.data_processing import get_context, pad_list, map_column, MASK, PAD"
   ]
  },
  {
   "cell_type": "markdown",
   "id": "d8e4d925",
   "metadata": {},
   "source": [
    "### Check GPU is available"
   ]
  },
  {
   "cell_type": "code",
   "execution_count": 95,
   "id": "236be942",
   "metadata": {},
   "outputs": [
    {
     "name": "stdout",
     "output_type": "stream",
     "text": [
      "Device tensor is stored on: cpu\n",
      "True\n",
      "Device tensor is stored on: cuda:0\n"
     ]
    }
   ],
   "source": [
    "import torch\n",
    "tensor = torch.rand(3,4)\n",
    "print(f\"Device tensor is stored on: {tensor.device}\")\n",
    "# Device tensor is stored on: cpu\n",
    "\n",
    "print(torch.cuda.is_available())\n",
    "#True\n",
    "\n",
    "tensor = tensor.to('cuda')\n",
    "print(f\"Device tensor is stored on: {tensor.device}\")\n",
    "# Device tensor is stored on: cuda:0"
   ]
  },
  {
   "cell_type": "markdown",
   "id": "a1e8f595",
   "metadata": {},
   "source": [
    "### Data processing"
   ]
  },
  {
   "cell_type": "code",
   "execution_count": 96,
   "id": "f687dde3",
   "metadata": {},
   "outputs": [],
   "source": [
    "# 檔案路徑\n",
    "data_csv_path = \"./netflix_prize_dataset/netflix_data_25M_drop.csv\"\n",
    "movies_path = \"./netflix_prize_dataset/netflix_movie2.csv\"\n",
    "# 檢查是否是最新的check point\n",
    "model_path = \"./recommender_models/recommender.ckpt\" \n",
    "data = pd.read_csv(data_csv_path)\n",
    "data.drop(data[data.movieId == 6484].index, inplace=True)\n",
    "movies = pd.read_csv(movies_path)\n",
    "data.sort_values(by=\"date\", inplace=True)"
   ]
  },
  {
   "cell_type": "code",
   "execution_count": 97,
   "id": "0a65c910",
   "metadata": {},
   "outputs": [],
   "source": [
    "data, mapping, inverse_mapping = map_column(data, col_name=\"movieId\")\n",
    "grp_by_train = data.groupby(by=\"userId\")"
   ]
  },
  {
   "cell_type": "code",
   "execution_count": 98,
   "id": "6923b93c",
   "metadata": {},
   "outputs": [
    {
     "data": {
      "text/plain": [
       "[594552, 479046, 97025, 534940, 410626, 341961, 234923, 102512, 572591, 639555]"
      ]
     },
     "execution_count": 98,
     "metadata": {},
     "output_type": "execute_result"
    }
   ],
   "source": [
    "random.sample(list(grp_by_train.groups), k=10) # Test"
   ]
  },
  {
   "cell_type": "markdown",
   "id": "a4cdb0e7",
   "metadata": {},
   "source": [
    "### Model Loading"
   ]
  },
  {
   "cell_type": "code",
   "execution_count": 99,
   "id": "80c7cc4e",
   "metadata": {},
   "outputs": [
    {
     "ename": "RuntimeError",
     "evalue": "Error(s) in loading state_dict for Recommender:\n\tsize mismatch for item_embeddings.weight: copying a param with shape torch.Size([17770, 128]) from checkpoint, the shape in current model is torch.Size([17769, 128]).\n\tsize mismatch for linear_out.weight: copying a param with shape torch.Size([17770, 128]) from checkpoint, the shape in current model is torch.Size([17769, 128]).\n\tsize mismatch for linear_out.bias: copying a param with shape torch.Size([17770]) from checkpoint, the shape in current model is torch.Size([17769]).",
     "output_type": "error",
     "traceback": [
      "\u001b[1;31m---------------------------------------------------------------------------\u001b[0m",
      "\u001b[1;31mRuntimeError\u001b[0m                              Traceback (most recent call last)",
      "\u001b[1;32mc:\\Users\\Kazuyahoo\\Documents\\GitHub\\recommender_movies\\inference.ipynb Cell 10'\u001b[0m in \u001b[0;36m<cell line: 8>\u001b[1;34m()\u001b[0m\n\u001b[0;32m      <a href='vscode-notebook-cell:/c%3A/Users/Kazuyahoo/Documents/GitHub/recommender_movies/inference.ipynb#ch0000007?line=0'>1</a>\u001b[0m model \u001b[39m=\u001b[39m Recommender(\n\u001b[0;32m      <a href='vscode-notebook-cell:/c%3A/Users/Kazuyahoo/Documents/GitHub/recommender_movies/inference.ipynb#ch0000007?line=1'>2</a>\u001b[0m         \u001b[39m# vocab_size=len(data) + 2,\u001b[39;00m\n\u001b[0;32m      <a href='vscode-notebook-cell:/c%3A/Users/Kazuyahoo/Documents/GitHub/recommender_movies/inference.ipynb#ch0000007?line=2'>3</a>\u001b[0m         vocab_size \u001b[39m=\u001b[39m \u001b[39mlen\u001b[39m(movies),\n\u001b[0;32m      <a href='vscode-notebook-cell:/c%3A/Users/Kazuyahoo/Documents/GitHub/recommender_movies/inference.ipynb#ch0000007?line=3'>4</a>\u001b[0m         lr\u001b[39m=\u001b[39m\u001b[39m1e-4\u001b[39m,\n\u001b[0;32m      <a href='vscode-notebook-cell:/c%3A/Users/Kazuyahoo/Documents/GitHub/recommender_movies/inference.ipynb#ch0000007?line=4'>5</a>\u001b[0m         dropout\u001b[39m=\u001b[39m\u001b[39m0.3\u001b[39m,\n\u001b[0;32m      <a href='vscode-notebook-cell:/c%3A/Users/Kazuyahoo/Documents/GitHub/recommender_movies/inference.ipynb#ch0000007?line=5'>6</a>\u001b[0m     )\n\u001b[0;32m      <a href='vscode-notebook-cell:/c%3A/Users/Kazuyahoo/Documents/GitHub/recommender_movies/inference.ipynb#ch0000007?line=6'>7</a>\u001b[0m model\u001b[39m.\u001b[39meval()\n\u001b[1;32m----> <a href='vscode-notebook-cell:/c%3A/Users/Kazuyahoo/Documents/GitHub/recommender_movies/inference.ipynb#ch0000007?line=7'>8</a>\u001b[0m model\u001b[39m.\u001b[39;49mload_state_dict(torch\u001b[39m.\u001b[39;49mload(model_path)[\u001b[39m\"\u001b[39;49m\u001b[39mstate_dict\u001b[39;49m\u001b[39m\"\u001b[39;49m])\n",
      "File \u001b[1;32mc:\\Users\\Kazuyahoo\\anaconda3\\envs\\mini-project_new\\lib\\site-packages\\torch\\nn\\modules\\module.py:1497\u001b[0m, in \u001b[0;36mModule.load_state_dict\u001b[1;34m(self, state_dict, strict)\u001b[0m\n\u001b[0;32m   <a href='file:///c%3A/Users/Kazuyahoo/anaconda3/envs/mini-project_new/lib/site-packages/torch/nn/modules/module.py?line=1491'>1492</a>\u001b[0m         error_msgs\u001b[39m.\u001b[39minsert(\n\u001b[0;32m   <a href='file:///c%3A/Users/Kazuyahoo/anaconda3/envs/mini-project_new/lib/site-packages/torch/nn/modules/module.py?line=1492'>1493</a>\u001b[0m             \u001b[39m0\u001b[39m, \u001b[39m'\u001b[39m\u001b[39mMissing key(s) in state_dict: \u001b[39m\u001b[39m{}\u001b[39;00m\u001b[39m. \u001b[39m\u001b[39m'\u001b[39m\u001b[39m.\u001b[39mformat(\n\u001b[0;32m   <a href='file:///c%3A/Users/Kazuyahoo/anaconda3/envs/mini-project_new/lib/site-packages/torch/nn/modules/module.py?line=1493'>1494</a>\u001b[0m                 \u001b[39m'\u001b[39m\u001b[39m, \u001b[39m\u001b[39m'\u001b[39m\u001b[39m.\u001b[39mjoin(\u001b[39m'\u001b[39m\u001b[39m\"\u001b[39m\u001b[39m{}\u001b[39;00m\u001b[39m\"\u001b[39m\u001b[39m'\u001b[39m\u001b[39m.\u001b[39mformat(k) \u001b[39mfor\u001b[39;00m k \u001b[39min\u001b[39;00m missing_keys)))\n\u001b[0;32m   <a href='file:///c%3A/Users/Kazuyahoo/anaconda3/envs/mini-project_new/lib/site-packages/torch/nn/modules/module.py?line=1495'>1496</a>\u001b[0m \u001b[39mif\u001b[39;00m \u001b[39mlen\u001b[39m(error_msgs) \u001b[39m>\u001b[39m \u001b[39m0\u001b[39m:\n\u001b[1;32m-> <a href='file:///c%3A/Users/Kazuyahoo/anaconda3/envs/mini-project_new/lib/site-packages/torch/nn/modules/module.py?line=1496'>1497</a>\u001b[0m     \u001b[39mraise\u001b[39;00m \u001b[39mRuntimeError\u001b[39;00m(\u001b[39m'\u001b[39m\u001b[39mError(s) in loading state_dict for \u001b[39m\u001b[39m{}\u001b[39;00m\u001b[39m:\u001b[39m\u001b[39m\\n\u001b[39;00m\u001b[39m\\t\u001b[39;00m\u001b[39m{}\u001b[39;00m\u001b[39m'\u001b[39m\u001b[39m.\u001b[39mformat(\n\u001b[0;32m   <a href='file:///c%3A/Users/Kazuyahoo/anaconda3/envs/mini-project_new/lib/site-packages/torch/nn/modules/module.py?line=1497'>1498</a>\u001b[0m                        \u001b[39mself\u001b[39m\u001b[39m.\u001b[39m\u001b[39m__class__\u001b[39m\u001b[39m.\u001b[39m\u001b[39m__name__\u001b[39m, \u001b[39m\"\u001b[39m\u001b[39m\\n\u001b[39;00m\u001b[39m\\t\u001b[39;00m\u001b[39m\"\u001b[39m\u001b[39m.\u001b[39mjoin(error_msgs)))\n\u001b[0;32m   <a href='file:///c%3A/Users/Kazuyahoo/anaconda3/envs/mini-project_new/lib/site-packages/torch/nn/modules/module.py?line=1498'>1499</a>\u001b[0m \u001b[39mreturn\u001b[39;00m _IncompatibleKeys(missing_keys, unexpected_keys)\n",
      "\u001b[1;31mRuntimeError\u001b[0m: Error(s) in loading state_dict for Recommender:\n\tsize mismatch for item_embeddings.weight: copying a param with shape torch.Size([17770, 128]) from checkpoint, the shape in current model is torch.Size([17769, 128]).\n\tsize mismatch for linear_out.weight: copying a param with shape torch.Size([17770, 128]) from checkpoint, the shape in current model is torch.Size([17769, 128]).\n\tsize mismatch for linear_out.bias: copying a param with shape torch.Size([17770]) from checkpoint, the shape in current model is torch.Size([17769])."
     ]
    }
   ],
   "source": [
    "model = Recommender(\n",
    "        # vocab_size=len(data) + 2,\n",
    "        vocab_size = len(movies),\n",
    "        lr=1e-4,\n",
    "        dropout=0.3,\n",
    "    )\n",
    "model.eval()\n",
    "model.load_state_dict(torch.load(model_path)[\"state_dict\"])"
   ]
  },
  {
   "cell_type": "code",
   "execution_count": null,
   "id": "997385df",
   "metadata": {},
   "outputs": [],
   "source": [
    "# movie_to_idx = {a: mapping[b] for a, b in zip(movies.title.tolist(), movies.movieId.tolist()) if b in mapping} # old\n",
    "movie_to_idx = {a: b for a, b in zip(movies.title.tolist(), movies.movieId.tolist())}\n",
    "idx_to_movie = {v: k for k, v in movie_to_idx.items()}"
   ]
  },
  {
   "cell_type": "markdown",
   "id": "ac208ac2",
   "metadata": {},
   "source": [
    "### Predict function"
   ]
  },
  {
   "cell_type": "code",
   "execution_count": null,
   "id": "5b083cd4",
   "metadata": {},
   "outputs": [],
   "source": [
    "def NormalizeData(data):\n",
    "    return (data - np.min(data)) / (np.max(data) - np.min(data)) * 5\n",
    "\n",
    "def predict(list_movies, model, movie_to_idx, idx_to_movie):\n",
    "\n",
    "    if type(list_movies[0]) == str:\n",
    "        ids = [PAD] * (120 - len(list_movies) - 1) + [movie_to_idx[a] for a in list_movies] + [MASK]\n",
    "    else:\n",
    "        ids = [PAD] * (120 - len(list_movies) - 1) + list_movies + [MASK]\n",
    "    \n",
    "    src = torch.tensor(ids, dtype=torch.long).unsqueeze(0)\n",
    "    \n",
    "    with torch.no_grad():\n",
    "        prediction = model(src)\n",
    "    \n",
    "    masked_pred = prediction[0, -1].numpy()\n",
    "\n",
    "    masked_pred = NormalizeData(masked_pred) # let the result's value in 1~5\n",
    "\n",
    "    sorted_predicted_ids = np.argsort(masked_pred).tolist()[::-1]\n",
    "    \n",
    "    sorted_predicted_ids = [a for a in sorted_predicted_ids if a not in ids]\n",
    "    \n",
    "    return [idx_to_movie[a] for a in sorted_predicted_ids[:30] if a in idx_to_movie], [masked_pred[ids] for ids in sorted_predicted_ids[:30]], [masked_pred[i] for i in [movie_to_idx[a] for a in list_movies]]\n"
   ]
  },
  {
   "cell_type": "markdown",
   "id": "f1b6943f",
   "metadata": {},
   "source": [
    "### Output Results (old)"
   ]
  },
  {
   "cell_type": "markdown",
   "id": "1f0e44c1",
   "metadata": {},
   "source": [
    "#### Senario 1: Adventure/Fantasy "
   ]
  },
  {
   "cell_type": "code",
   "execution_count": 14,
   "id": "5dae87be",
   "metadata": {},
   "outputs": [
    {
     "data": {
      "text/plain": [
       "['Shrek 2',\n",
       " 'Finding Nemo (Widescreen)',\n",
       " 'Shrek (Full-screen)',\n",
       " 'Spider-Man 2',\n",
       " 'Shark Tale',\n",
       " 'The Incredibles',\n",
       " \"Harry Potter and the Sorcerer's Stone\",\n",
       " 'The Bourne Supremacy',\n",
       " 'SpongeBob SquarePants: The Movie',\n",
       " 'Garfield: The Movie',\n",
       " 'Ice Age',\n",
       " 'Collateral',\n",
       " 'Dodgeball: A True Underdog Story',\n",
       " 'Pirates of the Caribbean: The Curse of the Black Pearl',\n",
       " 'The Terminal',\n",
       " 'The Day After Tomorrow',\n",
       " 'Troy',\n",
       " 'Elf',\n",
       " 'The Manchurian Candidate',\n",
       " 'The Princess Diaries 2: Royal Engagement',\n",
       " 'Napoleon Dynamite',\n",
       " 'The Notebook',\n",
       " 'Lord of the Rings: The Return of the King',\n",
       " 'Daddy Day Care',\n",
       " 'Anchorman: The Legend of Ron Burgundy',\n",
       " 'Aladdin: Platinum Edition',\n",
       " 'The Chronicles of Riddick',\n",
       " \"A Bug's Life\"]"
      ]
     },
     "execution_count": 14,
     "metadata": {},
     "output_type": "execute_result"
    }
   ],
   "source": [
    "# list_movies = [\"Harry Potter and the Sorcerer's Stone (a.k.a. Harry Potter and the Philosopher's Stone) (2001)\",\n",
    "            #    \"Harry Potter and the Chamber of Secrets (2002)\",\n",
    "            #    \"Harry Potter and the Prisoner of Azkaban (2004)\",\n",
    "            #    \"Harry Potter and the Goblet of Fire (2005)\"]\n",
    "list_movies=[\"Harry Potter and the Prisoner of Azkaban: Bonus Material\",\n",
    "            \"Discovering the Real World of Harry Potter\",\n",
    "            \"Harry Potter and the Chamber of Secrets\",\n",
    "            \"Harry Potter and the Prisoner of Azkaban\"]\n",
    "top_movie = predict(list_movies, model, movie_to_idx, idx_to_movie)\n",
    "top_movie"
   ]
  },
  {
   "cell_type": "markdown",
   "id": "afb4b657",
   "metadata": {},
   "source": [
    "#### Senario 2:  Action/Adventure"
   ]
  },
  {
   "cell_type": "code",
   "execution_count": 15,
   "id": "96f0c5d3",
   "metadata": {},
   "outputs": [
    {
     "data": {
      "text/plain": [
       "['Daredevil vs. Spiderman',\n",
       " 'Scooby-Doo Meets Batman',\n",
       " 'Pokemon: Mewtwo Returns',\n",
       " 'Scooby-Doo',\n",
       " 'Ice Age',\n",
       " 'SpongeBob SquarePants: Halloween',\n",
       " 'SpongeBob SquarePants: Nautical Nonsense / Sponge Buddies',\n",
       " 'Jimmy Neutron: Boy Genius',\n",
       " 'Scooby-Doo and the Legend of the Vampire',\n",
       " 'Stuart Little 2',\n",
       " 'Scooby-Doo and the Reluctant Werewolf',\n",
       " 'SpongeBob SquarePants: Tales From the Deep',\n",
       " 'Scooby-Doo and the Ghoul School',\n",
       " 'SpongeBob SquarePants: Sea Stories',\n",
       " 'Scooby-Doo and the Alien Invaders',\n",
       " 'Schoolhouse Rock!: Special 30th Anniversary Edition',\n",
       " 'Justice League',\n",
       " \"Scooby-Doo's Spookiest Tales\",\n",
       " 'Harry Potter and the Chamber of Secrets',\n",
       " 'Pokemon 3: The Movie',\n",
       " 'Justice League: Justice on Trial',\n",
       " 'Lord of the Rings: The Fellowship of the Ring',\n",
       " 'Spirit: Stallion of the Cimarron',\n",
       " 'Scooby-Doo and the Cyber Chase',\n",
       " 'Scooby-Doo Meets the Harlem Globetrotters',\n",
       " 'Transformers: The Movie',\n",
       " 'Snow Dogs',\n",
       " 'Scooby-Doo Goes Hollywood',\n",
       " 'My Big Fat Greek Wedding']"
      ]
     },
     "execution_count": 15,
     "metadata": {},
     "output_type": "execute_result"
    }
   ],
   "source": [
    "# list_movies = [\"Black Panther (2017)\",\n",
    "#                \"Avengers, The (2012)\",\n",
    "#                \"Avengers: Infinity War - Part I (2018)\",\n",
    "#                \"Logan (2017)\",\n",
    "#                \"Spider-Man (2002)\",\n",
    "#                \"Spider-Man 3 (2007)\",\n",
    "#                \"Spider-Man: Far from Home (2019)\"]\n",
    "list_movies = [\"Spider-Man: The Return of the Green Goblin\",\n",
    "               \"Spider-Man\",\n",
    "               \"Spider-Man: The Venom Saga\",\n",
    "               \"Spider-Man 2: Bonus Material\",\n",
    "               \"X-Men: Evolution: Season 2\"\n",
    "]\n",
    "top_movie = predict(list_movies, model, movie_to_idx, idx_to_movie)\n",
    "top_movie"
   ]
  },
  {
   "cell_type": "markdown",
   "id": "a22ddfeb",
   "metadata": {},
   "source": [
    "#### Senario 3: Comedy"
   ]
  },
  {
   "cell_type": "code",
   "execution_count": 14,
   "id": "b3f01cbc",
   "metadata": {},
   "outputs": [
    {
     "data": {
      "text/plain": [
       "['Moana (2016)',\n",
       " 'Guardians of the Galaxy 2 (2017)',\n",
       " 'Nightmare Before Christmas, The (1993)',\n",
       " 'Inside Out (2015)',\n",
       " 'Up (2009)',\n",
       " 'Breakfast Club, The (1985)',\n",
       " 'Toy Story (1995)',\n",
       " \"Ferris Bueller's Day Off (1986)\",\n",
       " 'Coco (2017)',\n",
       " 'Finding Dory (2016)',\n",
       " \"Bug's Life, A (1998)\",\n",
       " 'Pitch Perfect (2012)',\n",
       " 'Clueless (1995)',\n",
       " 'Untitled Spider-Man Reboot (2017)',\n",
       " 'Deadpool (2016)',\n",
       " 'Big Hero 6 (2014)',\n",
       " 'Toy Story 2 (1999)',\n",
       " 'Thor: Ragnarok (2017)',\n",
       " 'Groundhog Day (1993)',\n",
       " 'Forrest Gump (1994)',\n",
       " 'Easy A (2010)',\n",
       " 'Back to the Future Part II (1989)',\n",
       " 'Scott Pilgrim vs. the World (2010)',\n",
       " 'Austin Powers: International Man of Mystery (1997)',\n",
       " 'Wonder Woman (2017)',\n",
       " 'How to Train Your Dragon (2010)',\n",
       " '21 Jump Street (2012)',\n",
       " 'Beauty and the Beast (1991)',\n",
       " 'Monsters, Inc. (2001)']"
      ]
     },
     "execution_count": 14,
     "metadata": {},
     "output_type": "execute_result"
    }
   ],
   "source": [
    "# list_movies = [\"Zootopia (2016)\",\n",
    "#                \"Toy Story 3 (2010)\",\n",
    "#                \"Toy Story 4 (2019)\",\n",
    "#                \"Finding Nemo (2003)\",\n",
    "#                \"Ratatouille (2007)\",\n",
    "#                \"The Lego Movie (2014)\",\n",
    "#                \"Ghostbusters (a.k.a. Ghost Busters) (1984)\",\n",
    "#                \"Ace Ventura: When Nature Calls (1995)\"]\n",
    "# top_movie = predict(list_movies, model, movie_to_idx, idx_to_movie)\n",
    "# top_movie"
   ]
  },
  {
   "cell_type": "markdown",
   "id": "b4ab1a4c",
   "metadata": {},
   "source": [
    "### Evaluation metrics"
   ]
  },
  {
   "cell_type": "markdown",
   "id": "77c0df8c",
   "metadata": {},
   "source": [
    "#### Test Random userId"
   ]
  },
  {
   "cell_type": "code",
   "execution_count": null,
   "id": "8ba1cb38",
   "metadata": {},
   "outputs": [
    {
     "name": "stdout",
     "output_type": "stream",
     "text": [
      "1.0 1\n",
      "1.0 2\n",
      "0.6666666666666666 3\n",
      "0.5 4\n",
      "0.4 5\n",
      "0.5 6\n",
      "0.5714285714285714 7\n",
      "0.625 8\n",
      "0.5555555555555556 9\n",
      "0.5 10\n"
     ]
    }
   ],
   "source": [
    "random_userId = random.choice(list(set(data.userId))) # Random choose an user\n",
    "user_input = data[(data.userId == random_userId)]\n",
    "if len(user_input) >= 511:\n",
    "    user_input = user_input.sample(n = 511) # Random choose 511 rows\n",
    "answer = [a['rating'] for idx, a in user_input.iterrows() if a['movieId'] in idx_to_movie]\n",
    "user_input = [idx_to_movie[a] for a in user_input.movieId if a in idx_to_movie]\n",
    "top_movie, test, evaluation = predict(user_input, model, movie_to_idx, idx_to_movie)\n",
    "final_eval = pd.DataFrame(data = user_input,  columns = ['Movie'])\n",
    "final_eval['answer'] = answer\n",
    "final_eval['eval'] = evaluation\n",
    "final_eval.sort_values(by = ['eval'], ascending = False, inplace = True)\n",
    "count, relevant = 0, 0\n",
    "for idx, elm in final_eval.iterrows():\n",
    "    if elm['answer'] >= 3.5: relevant += 1\n",
    "    count += 1\n",
    "    print(relevant/count, count)\n",
    "    if count == 10: break"
   ]
  },
  {
   "cell_type": "code",
   "execution_count": 72,
   "id": "d895a702",
   "metadata": {},
   "outputs": [
    {
     "data": {
      "text/plain": [
       "['Godzilla vs. Destroyah / Godzilla vs. Space Godzilla (Double Feature)',\n",
       " 'Heartwood',\n",
       " 'La Dolce Vita',\n",
       " 'Suburbia',\n",
       " 'Tommy Boy',\n",
       " 'Dorothy L. Sayers Mysteries: Have His Carcase',\n",
       " 'Blue',\n",
       " 'Deterrence',\n",
       " 'Jurassic Park',\n",
       " 'Master and Commander: The Far Side of the World',\n",
       " 'Alabama Love Story',\n",
       " 'North Shore',\n",
       " 'Seems Like Old Times',\n",
       " 'Essence of Echoes',\n",
       " 'Hidalgo',\n",
       " 'Fearless Hyena 1 / Fearless Hyena 2',\n",
       " 'Carnivale: Season 1',\n",
       " 'The Onion Field',\n",
       " 'The Man Who Shot Liberty Valance',\n",
       " \"W.C. Fields: You Can't Cheat an Honest Man\",\n",
       " 'Blast',\n",
       " 'Pokemon Heroes: The Movie',\n",
       " \"The General's Daughter\",\n",
       " 'The Mean Season',\n",
       " 'Mulholland Falls',\n",
       " 'Big Fish',\n",
       " 'Hote Hote Pyaar Ho Gaya',\n",
       " 'Cries and Whispers',\n",
       " 'The Broadway Melody of 1929',\n",
       " 'Frasier: Season 5']"
      ]
     },
     "execution_count": 72,
     "metadata": {},
     "output_type": "execute_result"
    }
   ],
   "source": [
    "top_movie"
   ]
  },
  {
   "cell_type": "code",
   "execution_count": 89,
   "id": "04b8bcd7",
   "metadata": {},
   "outputs": [
    {
     "data": {
      "text/plain": [
       "129"
      ]
     },
     "execution_count": 89,
     "metadata": {},
     "output_type": "execute_result"
    }
   ],
   "source": [
    "len(final_eval[final_eval.answer >= 3.5])"
   ]
  },
  {
   "cell_type": "markdown",
   "id": "1441b7ed",
   "metadata": {},
   "source": [
    "#### Test all userId"
   ]
  },
  {
   "cell_type": "code",
   "execution_count": 101,
   "id": "1d1007ca",
   "metadata": {},
   "outputs": [
    {
     "name": "stdout",
     "output_type": "stream",
     "text": [
      "510180 is done!\n",
      "122223 is done!\n",
      "204439 is done!\n",
      "404067 is done!\n",
      "261295 is done!\n",
      "355883 is done!\n",
      "640999 is done!\n",
      "153083 is done!\n",
      "228192 is done!\n",
      "369086 is done!\n"
     ]
    },
    {
     "ename": "KeyboardInterrupt",
     "evalue": "",
     "output_type": "error",
     "traceback": [
      "\u001b[1;31m---------------------------------------------------------------------------\u001b[0m",
      "\u001b[1;31mKeyboardInterrupt\u001b[0m                         Traceback (most recent call last)",
      "\u001b[1;32mc:\\Users\\Kazuyahoo\\Documents\\GitHub\\recommender_movies\\inference.ipynb Cell 27'\u001b[0m in \u001b[0;36m<cell line: 4>\u001b[1;34m()\u001b[0m\n\u001b[0;32m      <a href='vscode-notebook-cell:/c%3A/Users/Kazuyahoo/Documents/GitHub/recommender_movies/inference.ipynb#ch0000027?line=5'>6</a>\u001b[0m \u001b[39mif\u001b[39;00m \u001b[39mlen\u001b[39m(user_input) \u001b[39m>\u001b[39m\u001b[39m=\u001b[39m \u001b[39m511\u001b[39m:\n\u001b[0;32m      <a href='vscode-notebook-cell:/c%3A/Users/Kazuyahoo/Documents/GitHub/recommender_movies/inference.ipynb#ch0000027?line=6'>7</a>\u001b[0m     user_input \u001b[39m=\u001b[39m user_input\u001b[39m.\u001b[39msample(n \u001b[39m=\u001b[39m \u001b[39m511\u001b[39m) \u001b[39m# Random choose 511 rows\u001b[39;00m\n\u001b[1;32m----> <a href='vscode-notebook-cell:/c%3A/Users/Kazuyahoo/Documents/GitHub/recommender_movies/inference.ipynb#ch0000027?line=7'>8</a>\u001b[0m answer \u001b[39m=\u001b[39m [a[\u001b[39m'\u001b[39m\u001b[39mrating\u001b[39m\u001b[39m'\u001b[39m] \u001b[39mfor\u001b[39;00m idx, a \u001b[39min\u001b[39;00m user_input\u001b[39m.\u001b[39miterrows() \u001b[39mif\u001b[39;00m a[\u001b[39m'\u001b[39m\u001b[39mmovieId\u001b[39m\u001b[39m'\u001b[39m] \u001b[39min\u001b[39;00m idx_to_movie]\n\u001b[0;32m      <a href='vscode-notebook-cell:/c%3A/Users/Kazuyahoo/Documents/GitHub/recommender_movies/inference.ipynb#ch0000027?line=8'>9</a>\u001b[0m user_input \u001b[39m=\u001b[39m [idx_to_movie[a] \u001b[39mfor\u001b[39;00m a \u001b[39min\u001b[39;00m user_input\u001b[39m.\u001b[39mmovieId \u001b[39mif\u001b[39;00m a \u001b[39min\u001b[39;00m idx_to_movie]\n\u001b[0;32m     <a href='vscode-notebook-cell:/c%3A/Users/Kazuyahoo/Documents/GitHub/recommender_movies/inference.ipynb#ch0000027?line=9'>10</a>\u001b[0m top_movie, test, evaluation \u001b[39m=\u001b[39m predict(user_input, model, movie_to_idx, idx_to_movie)\n",
      "\u001b[1;32mc:\\Users\\Kazuyahoo\\Documents\\GitHub\\recommender_movies\\inference.ipynb Cell 27'\u001b[0m in \u001b[0;36m<listcomp>\u001b[1;34m(.0)\u001b[0m\n\u001b[0;32m      <a href='vscode-notebook-cell:/c%3A/Users/Kazuyahoo/Documents/GitHub/recommender_movies/inference.ipynb#ch0000027?line=5'>6</a>\u001b[0m \u001b[39mif\u001b[39;00m \u001b[39mlen\u001b[39m(user_input) \u001b[39m>\u001b[39m\u001b[39m=\u001b[39m \u001b[39m511\u001b[39m:\n\u001b[0;32m      <a href='vscode-notebook-cell:/c%3A/Users/Kazuyahoo/Documents/GitHub/recommender_movies/inference.ipynb#ch0000027?line=6'>7</a>\u001b[0m     user_input \u001b[39m=\u001b[39m user_input\u001b[39m.\u001b[39msample(n \u001b[39m=\u001b[39m \u001b[39m511\u001b[39m) \u001b[39m# Random choose 511 rows\u001b[39;00m\n\u001b[1;32m----> <a href='vscode-notebook-cell:/c%3A/Users/Kazuyahoo/Documents/GitHub/recommender_movies/inference.ipynb#ch0000027?line=7'>8</a>\u001b[0m answer \u001b[39m=\u001b[39m [a[\u001b[39m'\u001b[39m\u001b[39mrating\u001b[39m\u001b[39m'\u001b[39m] \u001b[39mfor\u001b[39;00m idx, a \u001b[39min\u001b[39;00m user_input\u001b[39m.\u001b[39miterrows() \u001b[39mif\u001b[39;00m a[\u001b[39m'\u001b[39m\u001b[39mmovieId\u001b[39m\u001b[39m'\u001b[39m] \u001b[39min\u001b[39;00m idx_to_movie]\n\u001b[0;32m      <a href='vscode-notebook-cell:/c%3A/Users/Kazuyahoo/Documents/GitHub/recommender_movies/inference.ipynb#ch0000027?line=8'>9</a>\u001b[0m user_input \u001b[39m=\u001b[39m [idx_to_movie[a] \u001b[39mfor\u001b[39;00m a \u001b[39min\u001b[39;00m user_input\u001b[39m.\u001b[39mmovieId \u001b[39mif\u001b[39;00m a \u001b[39min\u001b[39;00m idx_to_movie]\n\u001b[0;32m     <a href='vscode-notebook-cell:/c%3A/Users/Kazuyahoo/Documents/GitHub/recommender_movies/inference.ipynb#ch0000027?line=9'>10</a>\u001b[0m top_movie, test, evaluation \u001b[39m=\u001b[39m predict(user_input, model, movie_to_idx, idx_to_movie)\n",
      "File \u001b[1;32mc:\\Users\\Kazuyahoo\\anaconda3\\envs\\mini-project_new\\lib\\site-packages\\pandas\\core\\frame.py:1071\u001b[0m, in \u001b[0;36mDataFrame.iterrows\u001b[1;34m(self)\u001b[0m\n\u001b[0;32m   <a href='file:///c%3A/Users/Kazuyahoo/anaconda3/envs/mini-project_new/lib/site-packages/pandas/core/frame.py?line=1068'>1069</a>\u001b[0m klass \u001b[39m=\u001b[39m \u001b[39mself\u001b[39m\u001b[39m.\u001b[39m_constructor_sliced\n\u001b[0;32m   <a href='file:///c%3A/Users/Kazuyahoo/anaconda3/envs/mini-project_new/lib/site-packages/pandas/core/frame.py?line=1069'>1070</a>\u001b[0m \u001b[39mfor\u001b[39;00m k, v \u001b[39min\u001b[39;00m \u001b[39mzip\u001b[39m(\u001b[39mself\u001b[39m\u001b[39m.\u001b[39mindex, \u001b[39mself\u001b[39m\u001b[39m.\u001b[39mvalues):\n\u001b[1;32m-> <a href='file:///c%3A/Users/Kazuyahoo/anaconda3/envs/mini-project_new/lib/site-packages/pandas/core/frame.py?line=1070'>1071</a>\u001b[0m     s \u001b[39m=\u001b[39m klass(v, index\u001b[39m=\u001b[39;49mcolumns, name\u001b[39m=\u001b[39;49mk)\n\u001b[0;32m   <a href='file:///c%3A/Users/Kazuyahoo/anaconda3/envs/mini-project_new/lib/site-packages/pandas/core/frame.py?line=1071'>1072</a>\u001b[0m     \u001b[39myield\u001b[39;00m k, s\n",
      "File \u001b[1;32mc:\\Users\\Kazuyahoo\\anaconda3\\envs\\mini-project_new\\lib\\site-packages\\pandas\\core\\series.py:266\u001b[0m, in \u001b[0;36mSeries.__init__\u001b[1;34m(self, data, index, dtype, name, copy, fastpath)\u001b[0m\n\u001b[0;32m    <a href='file:///c%3A/Users/Kazuyahoo/anaconda3/envs/mini-project_new/lib/site-packages/pandas/core/series.py?line=261'>262</a>\u001b[0m         index \u001b[39m=\u001b[39m data\u001b[39m.\u001b[39mindex\n\u001b[0;32m    <a href='file:///c%3A/Users/Kazuyahoo/anaconda3/envs/mini-project_new/lib/site-packages/pandas/core/series.py?line=263'>264</a>\u001b[0m \u001b[39melse\u001b[39;00m:\n\u001b[1;32m--> <a href='file:///c%3A/Users/Kazuyahoo/anaconda3/envs/mini-project_new/lib/site-packages/pandas/core/series.py?line=265'>266</a>\u001b[0m     name \u001b[39m=\u001b[39m ibase\u001b[39m.\u001b[39mmaybe_extract_name(name, data, \u001b[39mtype\u001b[39;49m(\u001b[39mself\u001b[39m))\n\u001b[0;32m    <a href='file:///c%3A/Users/Kazuyahoo/anaconda3/envs/mini-project_new/lib/site-packages/pandas/core/series.py?line=267'>268</a>\u001b[0m     \u001b[39mif\u001b[39;00m is_empty_data(data) \u001b[39mand\u001b[39;00m dtype \u001b[39mis\u001b[39;00m \u001b[39mNone\u001b[39;00m:\n\u001b[0;32m    <a href='file:///c%3A/Users/Kazuyahoo/anaconda3/envs/mini-project_new/lib/site-packages/pandas/core/series.py?line=268'>269</a>\u001b[0m         \u001b[39m# gh-17261\u001b[39;00m\n\u001b[0;32m    <a href='file:///c%3A/Users/Kazuyahoo/anaconda3/envs/mini-project_new/lib/site-packages/pandas/core/series.py?line=269'>270</a>\u001b[0m         warnings\u001b[39m.\u001b[39mwarn(\n\u001b[0;32m    <a href='file:///c%3A/Users/Kazuyahoo/anaconda3/envs/mini-project_new/lib/site-packages/pandas/core/series.py?line=270'>271</a>\u001b[0m             \u001b[39m\"\u001b[39m\u001b[39mThe default dtype for empty Series will be \u001b[39m\u001b[39m'\u001b[39m\u001b[39mobject\u001b[39m\u001b[39m'\u001b[39m\u001b[39m instead \u001b[39m\u001b[39m\"\u001b[39m\n\u001b[0;32m    <a href='file:///c%3A/Users/Kazuyahoo/anaconda3/envs/mini-project_new/lib/site-packages/pandas/core/series.py?line=271'>272</a>\u001b[0m             \u001b[39m\"\u001b[39m\u001b[39mof \u001b[39m\u001b[39m'\u001b[39m\u001b[39mfloat64\u001b[39m\u001b[39m'\u001b[39m\u001b[39m in a future version. Specify a dtype explicitly \u001b[39m\u001b[39m\"\u001b[39m\n\u001b[1;32m   (...)\u001b[0m\n\u001b[0;32m    <a href='file:///c%3A/Users/Kazuyahoo/anaconda3/envs/mini-project_new/lib/site-packages/pandas/core/series.py?line=274'>275</a>\u001b[0m             stacklevel\u001b[39m=\u001b[39m\u001b[39m2\u001b[39m,\n\u001b[0;32m    <a href='file:///c%3A/Users/Kazuyahoo/anaconda3/envs/mini-project_new/lib/site-packages/pandas/core/series.py?line=275'>276</a>\u001b[0m         )\n",
      "\u001b[1;31mKeyboardInterrupt\u001b[0m: "
     ]
    }
   ],
   "source": [
    "# k = 0 (useless) 1~10\n",
    "precision_score = [0]*11 \n",
    "recall_score = [0]*11\n",
    "for userId in data.userId.unique():\n",
    "    user_input = data[(data.userId == userId)]\n",
    "    if len(user_input) >= 511:\n",
    "        user_input = user_input.sample(n = 511) # Random choose 511 rows\n",
    "    answer = [a['rating'] for idx, a in user_input.iterrows() if a['movieId'] in idx_to_movie]\n",
    "    user_input = [idx_to_movie[a] for a in user_input.movieId if a in idx_to_movie]\n",
    "    top_movie, test, evaluation = predict(user_input, model, movie_to_idx, idx_to_movie)\n",
    "    final_eval = pd.DataFrame(data = user_input,  columns = ['Movie'])\n",
    "    final_eval['answer'] = answer\n",
    "    final_eval['eval'] = evaluation\n",
    "    final_eval.sort_values(by = ['eval'], ascending = False, inplace = True)\n",
    "    recommend_item, relevant_item, relevant_recommend = 0, len(final_eval[final_eval.answer >= 3.5]), 0 # Precision分母 Recall分母 分子兩個一樣\n",
    "    for idx, elm in final_eval.iterrows():\n",
    "        if elm['answer'] >= 3.5: relevant_recommend += 1\n",
    "        recommend_item += 1\n",
    "        precision_score[recommend_item] += relevant_recommend / recommend_item\n",
    "        if relevant_item>0:\n",
    "            recall_score[recommend_item] += relevant_recommend / relevant_item\n",
    "        if recommend_item == 10: break\n",
    "    print(userId, 'is done!')"
   ]
  },
  {
   "cell_type": "markdown",
   "id": "546a9aae",
   "metadata": {},
   "source": [
    "#### Precision Score"
   ]
  },
  {
   "cell_type": "code",
   "execution_count": 1,
   "id": "bc7fed64",
   "metadata": {},
   "outputs": [
    {
     "ename": "NameError",
     "evalue": "name 'precision_score' is not defined",
     "output_type": "error",
     "traceback": [
      "\u001b[1;31m---------------------------------------------------------------------------\u001b[0m",
      "\u001b[1;31mNameError\u001b[0m                                 Traceback (most recent call last)",
      "\u001b[1;32mc:\\Users\\Kazuyahoo\\Documents\\GitHub\\recommender_movies\\inference.ipynb Cell 29'\u001b[0m in \u001b[0;36m<cell line: 1>\u001b[1;34m()\u001b[0m\n\u001b[0;32m      <a href='vscode-notebook-cell:/c%3A/Users/Kazuyahoo/Documents/GitHub/recommender_movies/inference.ipynb#ch0000028?line=0'>1</a>\u001b[0m \u001b[39mfor\u001b[39;00m i \u001b[39min\u001b[39;00m \u001b[39mrange\u001b[39m(\u001b[39m1\u001b[39m,\u001b[39m11\u001b[39m):\n\u001b[1;32m----> <a href='vscode-notebook-cell:/c%3A/Users/Kazuyahoo/Documents/GitHub/recommender_movies/inference.ipynb#ch0000028?line=1'>2</a>\u001b[0m     \u001b[39mprint\u001b[39m(\u001b[39m\"\u001b[39m\u001b[39mk = \u001b[39m\u001b[39m\"\u001b[39m, i, precision_score[i] \u001b[39m/\u001b[39m \u001b[39m119857\u001b[39m)\n",
      "\u001b[1;31mNameError\u001b[0m: name 'precision_score' is not defined"
     ]
    }
   ],
   "source": [
    "for i in range(1,11):\n",
    "    print(\"k = \", i, precision_score[i] / 119857) # total value / total number of userId"
   ]
  },
  {
   "cell_type": "markdown",
   "id": "d2f4eb8b",
   "metadata": {},
   "source": [
    "#### Recall Score"
   ]
  },
  {
   "cell_type": "code",
   "execution_count": 105,
   "id": "4d5f624c",
   "metadata": {},
   "outputs": [
    {
     "name": "stdout",
     "output_type": "stream",
     "text": [
      "0.0038190464815749912\n",
      "0.009139063970878266\n",
      "0.01456258723925421\n",
      "0.02122620889451914\n",
      "0.03074889552713169\n",
      "0.033818580911227414\n",
      "0.04280284570536817\n",
      "0.047339235701926385\n",
      "0.05583088965862872\n",
      "0.06502651499753216\n"
     ]
    }
   ],
   "source": [
    "for i in range(1,11):\n",
    "    print(\"k = \", i, recall_score[i] / 119857) # total value / total number of userId"
   ]
  },
  {
   "cell_type": "markdown",
   "id": "f623f6c4",
   "metadata": {},
   "source": [
    "#### F1 Score"
   ]
  },
  {
   "cell_type": "code",
   "execution_count": null,
   "id": "9aa81d15",
   "metadata": {},
   "outputs": [],
   "source": [
    "for i in range(1,11):\n",
    "    prec_score = precision_score[i] / 119857\n",
    "    reca_score = recall_score[i] / 119857\n",
    "    print(\"k = \", i, (prec_score*recall_score/(prec_score+recall_score))*2) # total value / total number of userId"
   ]
  },
  {
   "cell_type": "code",
   "execution_count": null,
   "id": "2be2d53b",
   "metadata": {},
   "outputs": [
    {
     "data": {
      "text/plain": [
       "0.37716361998047676"
      ]
     },
     "execution_count": 156,
     "metadata": {},
     "output_type": "execute_result"
    }
   ],
   "source": [
    "count / (len(data.userId.unique())*30) #old"
   ]
  },
  {
   "cell_type": "code",
   "execution_count": 155,
   "id": "bc79fa72",
   "metadata": {},
   "outputs": [
    {
     "data": {
      "text/plain": [
       "119857"
      ]
     },
     "execution_count": 155,
     "metadata": {},
     "output_type": "execute_result"
    }
   ],
   "source": [
    "len(data.userId.unique())"
   ]
  }
 ],
 "metadata": {
  "interpreter": {
   "hash": "31db7151c9d4a1d195dbcabb8b392bb333f5cc12b1f977b7f7fa3fdb814a91e9"
  },
  "kernelspec": {
   "display_name": "Python 3.8.13 ('mini-project_new')",
   "language": "python",
   "name": "python3"
  },
  "language_info": {
   "codemirror_mode": {
    "name": "ipython",
    "version": 3
   },
   "file_extension": ".py",
   "mimetype": "text/x-python",
   "name": "python",
   "nbconvert_exporter": "python",
   "pygments_lexer": "ipython3",
   "version": "3.8.13"
  }
 },
 "nbformat": 4,
 "nbformat_minor": 5
}
