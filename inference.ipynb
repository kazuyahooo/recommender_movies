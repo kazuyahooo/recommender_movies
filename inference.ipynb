{
 "cells": [
  {
   "cell_type": "markdown",
   "id": "851c40c1",
   "metadata": {},
   "source": [
    "### Import Packages"
   ]
  },
  {
   "cell_type": "code",
   "execution_count": null,
   "id": "bda8cfe0",
   "metadata": {},
   "outputs": [],
   "source": [
    "import random\n",
    "import json\n",
    "import numpy as np\n",
    "import pandas as pd\n",
    "import pytorch_lightning as pl\n",
    "import torch\n",
    "from pytorch_lightning.callbacks import ModelCheckpoint\n",
    "from pytorch_lightning.loggers import TensorBoardLogger\n",
    "from torch.utils.data import DataLoader\n",
    "\n",
    "from recommender.models import Recommender\n",
    "from recommender.data_processing import get_context, pad_list, map_column, MASK, PAD"
   ]
  },
  {
   "cell_type": "markdown",
   "id": "d8e4d925",
   "metadata": {},
   "source": [
    "### Check GPU is available"
   ]
  },
  {
   "cell_type": "code",
   "execution_count": null,
   "id": "236be942",
   "metadata": {},
   "outputs": [],
   "source": [
    "import torch\n",
    "tensor = torch.rand(3,4)\n",
    "print(f\"Device tensor is stored on: {tensor.device}\")\n",
    "# Device tensor is stored on: cpu\n",
    "\n",
    "print(torch.cuda.is_available())\n",
    "#True\n",
    "\n",
    "tensor = tensor.to('cuda')\n",
    "print(f\"Device tensor is stored on: {tensor.device}\")\n",
    "# Device tensor is stored on: cuda:0"
   ]
  },
  {
   "cell_type": "markdown",
   "id": "a1e8f595",
   "metadata": {},
   "source": [
    "### Data processing"
   ]
  },
  {
   "cell_type": "code",
   "execution_count": null,
   "id": "f687dde3",
   "metadata": {},
   "outputs": [],
   "source": [
    "# 檔案路徑\n",
    "data_csv_path = \"./netflix_prize_dataset/netflix_data_25M_drop.csv\"\n",
    "movies_path = \"./netflix_prize_dataset/netflix_movie2.csv\"\n",
    "# 檢查是否是最新的check point\n",
    "model_path = \"./recommender_models/recommender-v1.ckpt\" \n",
    "data = pd.read_csv(data_csv_path)\n",
    "data.drop(data[data.movieId == 6484].index, inplace=True)\n",
    "movies = pd.read_csv(movies_path)\n",
    "data.sort_values(by=\"date\", inplace=True)"
   ]
  },
  {
   "cell_type": "code",
   "execution_count": null,
   "id": "0a65c910",
   "metadata": {},
   "outputs": [],
   "source": [
    "data, mapping, inverse_mapping = map_column(data, col_name=\"movieId\")\n",
    "grp_by_train = data.groupby(by=\"userId\")"
   ]
  },
  {
   "cell_type": "code",
   "execution_count": null,
   "id": "6923b93c",
   "metadata": {},
   "outputs": [],
   "source": [
    "random.sample(list(grp_by_train.groups), k=10) # Test"
   ]
  },
  {
   "cell_type": "markdown",
   "id": "a4cdb0e7",
   "metadata": {},
   "source": [
    "### Model Loading"
   ]
  },
  {
   "cell_type": "code",
   "execution_count": null,
   "id": "80c7cc4e",
   "metadata": {},
   "outputs": [],
   "source": [
    "model = Recommender(\n",
    "        # vocab_size=len(data) + 2,\n",
    "        vocab_size = len(movies) + 2,\n",
    "        lr=1e-4,\n",
    "        dropout=0.3,\n",
    "    )\n",
    "model.eval()\n",
    "model.load_state_dict(torch.load(model_path)[\"state_dict\"])"
   ]
  },
  {
   "cell_type": "code",
   "execution_count": null,
   "id": "997385df",
   "metadata": {},
   "outputs": [],
   "source": [
    "# movie_to_idx = {a: mapping[b] for a, b in zip(movies.title.tolist(), movies.movieId.tolist()) if b in mapping} # old\n",
    "# movie_to_idx = {a: b for a, b in zip(movies.title.tolist(), movies.movieId.tolist())}\n",
    "movie_to_idx = {}\n",
    "for a, b in zip(movies.title.tolist(), movies.movieId.tolist()):\n",
    "    if a in movie_to_idx:\n",
    "        movie_to_idx[f'{a}_{b}'] = b\n",
    "    else:\n",
    "        movie_to_idx[a] = b\n",
    "idx_to_movie = {v: k for k, v in movie_to_idx.items()}"
   ]
  },
  {
   "cell_type": "markdown",
   "id": "ac208ac2",
   "metadata": {},
   "source": [
    "### Predict function"
   ]
  },
  {
   "cell_type": "code",
   "execution_count": null,
   "id": "5b083cd4",
   "metadata": {},
   "outputs": [],
   "source": [
    "def NormalizeData(data):\n",
    "    return (data - np.min(data)) / (np.max(data) - np.min(data)) * 5\n",
    "\n",
    "def predict(list_movies, model, movie_to_idx, idx_to_movie):\n",
    "\n",
    "    if type(list_movies[0]) == str:\n",
    "        ids = [PAD] * (120 - len(list_movies) - 1) + [movie_to_idx[a] for a in list_movies] + [MASK]\n",
    "    else:\n",
    "        ids = [PAD] * (120 - len(list_movies) - 1) + list_movies + [MASK]\n",
    "    \n",
    "    src = torch.tensor(ids, dtype=torch.long).unsqueeze(0)\n",
    "\n",
    "    with torch.no_grad():\n",
    "        prediction = model(src)\n",
    "    \n",
    "    masked_pred = prediction[0, -1].numpy()\n",
    "\n",
    "    masked_pred = NormalizeData(masked_pred) # let the result's value in 1~5\n",
    "\n",
    "    sorted_predicted_ids = np.argsort(masked_pred).tolist()[::-1]\n",
    "    \n",
    "    sorted_predicted_ids = [a for a in sorted_predicted_ids if a not in ids]\n",
    "    \n",
    "    return [idx_to_movie[a] for a in sorted_predicted_ids[:30] if a in idx_to_movie], [masked_pred[ids] for ids in sorted_predicted_ids[:30]], [masked_pred[i] for i in [movie_to_idx[a] for a in list_movies]]\n"
   ]
  },
  {
   "cell_type": "markdown",
   "id": "f1b6943f",
   "metadata": {},
   "source": [
    "### Output Results (old)"
   ]
  },
  {
   "cell_type": "markdown",
   "id": "1f0e44c1",
   "metadata": {},
   "source": [
    "#### Senario 1: Adventure/Fantasy "
   ]
  },
  {
   "cell_type": "code",
   "execution_count": null,
   "id": "5dae87be",
   "metadata": {},
   "outputs": [],
   "source": [
    "# list_movies = [\"Harry Potter and the Sorcerer's Stone (a.k.a. Harry Potter and the Philosopher's Stone) (2001)\",\n",
    "            #    \"Harry Potter and the Chamber of Secrets (2002)\",\n",
    "            #    \"Harry Potter and the Prisoner of Azkaban (2004)\",\n",
    "            #    \"Harry Potter and the Goblet of Fire (2005)\"]\n",
    "list_movies=[\"Harry Potter and the Prisoner of Azkaban: Bonus Material\",\n",
    "            \"Discovering the Real World of Harry Potter\",\n",
    "            \"Harry Potter and the Chamber of Secrets\",\n",
    "            \"Harry Potter and the Prisoner of Azkaban\"]\n",
    "top_movie = predict(list_movies, model, movie_to_idx, idx_to_movie)\n",
    "top_movie"
   ]
  },
  {
   "cell_type": "markdown",
   "id": "afb4b657",
   "metadata": {},
   "source": [
    "#### Senario 2:  Action/Adventure"
   ]
  },
  {
   "cell_type": "code",
   "execution_count": null,
   "id": "96f0c5d3",
   "metadata": {},
   "outputs": [],
   "source": [
    "# list_movies = [\"Black Panther (2017)\",\n",
    "#                \"Avengers, The (2012)\",\n",
    "#                \"Avengers: Infinity War - Part I (2018)\",\n",
    "#                \"Logan (2017)\",\n",
    "#                \"Spider-Man (2002)\",\n",
    "#                \"Spider-Man 3 (2007)\",\n",
    "#                \"Spider-Man: Far from Home (2019)\"]\n",
    "list_movies = [\"Spider-Man: The Return of the Green Goblin\",\n",
    "               \"Spider-Man\",\n",
    "               \"Spider-Man: The Venom Saga\",\n",
    "               \"Spider-Man 2: Bonus Material\",\n",
    "               \"X-Men: Evolution: Season 2\"\n",
    "]\n",
    "top_movie = predict(list_movies, model, movie_to_idx, idx_to_movie)\n",
    "top_movie"
   ]
  },
  {
   "cell_type": "markdown",
   "id": "a22ddfeb",
   "metadata": {},
   "source": [
    "#### Senario 3: Comedy"
   ]
  },
  {
   "cell_type": "code",
   "execution_count": null,
   "id": "b3f01cbc",
   "metadata": {},
   "outputs": [],
   "source": [
    "# list_movies = [\"Zootopia (2016)\",\n",
    "#                \"Toy Story 3 (2010)\",\n",
    "#                \"Toy Story 4 (2019)\",\n",
    "#                \"Finding Nemo (2003)\",\n",
    "#                \"Ratatouille (2007)\",\n",
    "#                \"The Lego Movie (2014)\",\n",
    "#                \"Ghostbusters (a.k.a. Ghost Busters) (1984)\",\n",
    "#                \"Ace Ventura: When Nature Calls (1995)\"]\n",
    "# top_movie = predict(list_movies, model, movie_to_idx, idx_to_movie)\n",
    "# top_movie"
   ]
  },
  {
   "cell_type": "markdown",
   "id": "b4ab1a4c",
   "metadata": {},
   "source": [
    "### Evaluation metrics"
   ]
  },
  {
   "cell_type": "markdown",
   "id": "77c0df8c",
   "metadata": {},
   "source": [
    "#### Test Random userId"
   ]
  },
  {
   "cell_type": "code",
   "execution_count": null,
   "id": "8ba1cb38",
   "metadata": {},
   "outputs": [],
   "source": [
    "random_userId = random.choice(list(set(data.userId))) # Random choose an user\n",
    "user_input = data[(data.userId == random_userId)]\n",
    "if len(user_input) >= 511:\n",
    "    user_input = user_input.sample(n = 511) # Random choose 511 rows\n",
    "answer = [a['rating'] for idx, a in user_input.iterrows() if a['movieId'] in idx_to_movie]\n",
    "user_input = [idx_to_movie[a] for a in user_input.movieId if a in idx_to_movie]\n",
    "top_movie, test, evaluation = predict(user_input, model, movie_to_idx, idx_to_movie)\n",
    "final_eval = pd.DataFrame(data = user_input,  columns = ['Movie'])\n",
    "final_eval['answer'] = answer\n",
    "final_eval['eval'] = evaluation\n",
    "final_eval.sort_values(by = ['eval'], ascending = False, inplace = True)\n",
    "count, relevant = 0, 0\n",
    "for idx, elm in final_eval.iterrows():\n",
    "    if elm['answer'] >= 3.5: relevant += 1\n",
    "    count += 1\n",
    "    print(relevant/count, count)\n",
    "    if count == 10: break"
   ]
  },
  {
   "cell_type": "code",
   "execution_count": null,
   "id": "d895a702",
   "metadata": {},
   "outputs": [],
   "source": [
    "top_movie"
   ]
  },
  {
   "cell_type": "code",
   "execution_count": null,
   "id": "04b8bcd7",
   "metadata": {},
   "outputs": [],
   "source": [
    "len(final_eval[final_eval.answer >= 3.5])\n",
    "len(data.userId.unique())\n",
    "data.userId.unique()[:20]\n",
    "data[data.userId == 371560]"
   ]
  },
  {
   "cell_type": "markdown",
   "id": "1441b7ed",
   "metadata": {},
   "source": [
    "#### Test all userId"
   ]
  },
  {
   "cell_type": "code",
   "execution_count": null,
   "id": "1d1007ca",
   "metadata": {},
   "outputs": [],
   "source": [
    "# k = 0 (useless) 1~10\n",
    "precision_score = [0]*11 \n",
    "recall_score = [0]*11\n",
    "for userId in data.userId.unique():\n",
    "    user_input = data[(data.userId == userId)]\n",
    "    print(len(user_input))\n",
    "    if len(user_input) >= 511:\n",
    "        user_input = user_input.sample(n = 511) # Random choose 511 rows\n",
    "    answer = [a['rating'] for idx, a in user_input.iterrows() if a['movieId'] in idx_to_movie]\n",
    "    user_input = [idx_to_movie[a] for a in user_input.movieId if a in idx_to_movie]\n",
    "    top_movie, test, evaluation = predict(user_input, model, movie_to_idx, idx_to_movie)\n",
    "    final_eval = pd.DataFrame(data = user_input,  columns = ['Movie'])\n",
    "    final_eval['answer'] = answer\n",
    "    final_eval['eval'] = evaluation\n",
    "    final_eval.sort_values(by = ['eval'], ascending = False, inplace = True)\n",
    "    recommend_item, relevant_item, relevant_recommend = 0, len(final_eval[final_eval.answer >= 3.5]), 0 # Precision分母 Recall分母 分子兩個一樣\n",
    "    for idx, elm in final_eval.iterrows():\n",
    "        if elm['answer'] >= 3.5: relevant_recommend += 1\n",
    "        recommend_item += 1\n",
    "        precision_score[recommend_item] += relevant_recommend / recommend_item\n",
    "        if relevant_item>0:\n",
    "            recall_score[recommend_item] += relevant_recommend / relevant_item\n",
    "        if recommend_item == 10: break\n",
    "    print(userId, 'is done!')"
   ]
  },
  {
   "cell_type": "markdown",
   "id": "546a9aae",
   "metadata": {},
   "source": [
    "#### Precision Score"
   ]
  },
  {
   "cell_type": "code",
   "execution_count": null,
   "id": "bc7fed64",
   "metadata": {},
   "outputs": [],
   "source": [
    "for i in range(1,11):\n",
    "    print(\"k = \", i, precision_score[i] / len(data.userId.unique())) # total value / total number of userId"
   ]
  },
  {
   "cell_type": "markdown",
   "id": "d2f4eb8b",
   "metadata": {},
   "source": [
    "#### Recall Score"
   ]
  },
  {
   "cell_type": "code",
   "execution_count": null,
   "id": "4d5f624c",
   "metadata": {},
   "outputs": [],
   "source": [
    "for i in range(1,11):\n",
    "    print(\"k = \", i, recall_score[i] / len(data.userId.unique())) # total value / total number of userId"
   ]
  },
  {
   "cell_type": "markdown",
   "id": "f623f6c4",
   "metadata": {},
   "source": [
    "#### F1 Score"
   ]
  },
  {
   "cell_type": "code",
   "execution_count": null,
   "id": "9aa81d15",
   "metadata": {},
   "outputs": [],
   "source": [
    "for i in range(1,11):\n",
    "    prec_score = precision_score[i] / len(data.userId.unique())\n",
    "    reca_score = recall_score[i] / len(data.userId.unique())\n",
    "    print(\"k = \", i, (prec_score*recall_score/(prec_score+recall_score))*2) # total value / total number of userId"
   ]
  },
  {
   "cell_type": "code",
   "execution_count": null,
   "id": "2be2d53b",
   "metadata": {},
   "outputs": [],
   "source": [
    "count / (len(data.userId.unique())*30) #old"
   ]
  },
  {
   "cell_type": "code",
   "execution_count": null,
   "id": "bc79fa72",
   "metadata": {},
   "outputs": [],
   "source": [
    "len(data.userId.unique())"
   ]
  }
 ],
 "metadata": {
  "interpreter": {
   "hash": "31db7151c9d4a1d195dbcabb8b392bb333f5cc12b1f977b7f7fa3fdb814a91e9"
  },
  "kernelspec": {
   "display_name": "Python 3.8.13 ('mini-project_new')",
   "language": "python",
   "name": "python3"
  },
  "language_info": {
   "codemirror_mode": {
    "name": "ipython",
    "version": 3
   },
   "file_extension": ".py",
   "mimetype": "text/x-python",
   "name": "python",
   "nbconvert_exporter": "python",
   "pygments_lexer": "ipython3",
   "version": "3.8.13"
  }
 },
 "nbformat": 4,
 "nbformat_minor": 5
}
