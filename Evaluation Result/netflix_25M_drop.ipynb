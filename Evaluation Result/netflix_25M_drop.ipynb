{
 "cells": [
  {
   "cell_type": "code",
   "execution_count": 1,
   "id": "bda8cfe0",
   "metadata": {},
   "outputs": [
    {
     "name": "stderr",
     "output_type": "stream",
     "text": [
      "c:\\Users\\Michelle\\anaconda3\\envs\\wimu_mini\\lib\\site-packages\\tqdm\\auto.py:22: TqdmWarning: IProgress not found. Please update jupyter and ipywidgets. See https://ipywidgets.readthedocs.io/en/stable/user_install.html\n",
      "  from .autonotebook import tqdm as notebook_tqdm\n"
     ]
    }
   ],
   "source": [
    "import random\n",
    "import json\n",
    "import numpy as np\n",
    "import pandas as pd\n",
    "import pytorch_lightning as pl\n",
    "import torch\n",
    "from pytorch_lightning.callbacks import ModelCheckpoint\n",
    "from pytorch_lightning.loggers import TensorBoardLogger\n",
    "from torch.utils.data import DataLoader\n",
    "\n",
    "from recommender.models import Recommender\n",
    "from recommender.data_processing import get_context, pad_list, map_column, MASK, PAD\n"
   ]
  },
  {
   "cell_type": "code",
   "execution_count": 2,
   "id": "236be942",
   "metadata": {},
   "outputs": [
    {
     "name": "stdout",
     "output_type": "stream",
     "text": [
      "Device tensor is stored on: cpu\n",
      "True\n",
      "Device tensor is stored on: cuda:0\n"
     ]
    }
   ],
   "source": [
    "import torch\n",
    "tensor = torch.rand(3,4)\n",
    "print(f\"Device tensor is stored on: {tensor.device}\")\n",
    "# Device tensor is stored on: cpu\n",
    "\n",
    "print(torch.cuda.is_available())\n",
    "#True\n",
    "\n",
    "tensor = tensor.to('cuda')\n",
    "print(f\"Device tensor is stored on: {tensor.device}\")\n",
    "# Device tensor is stored on: cuda:0"
   ]
  },
  {
   "cell_type": "code",
   "execution_count": 3,
   "id": "f687dde3",
   "metadata": {},
   "outputs": [],
   "source": [
    "# 檔案路徑\n",
    "data_csv_path = \"../Data/netflix_prize_dataset/netflix_data_25M.csv\"\n",
    "movies_path = \"../Data/netflix_prize_dataset/netflix_movie.csv\"\n",
    "model_path = \"../recommender_models/recommender-v4.ckpt\""
   ]
  },
  {
   "cell_type": "code",
   "execution_count": 4,
   "id": "cac77364",
   "metadata": {},
   "outputs": [],
   "source": [
    "data = pd.read_csv(data_csv_path)\n",
    "movies = pd.read_csv(movies_path)\n"
   ]
  },
  {
   "cell_type": "code",
   "execution_count": 5,
   "id": "bb1a33bd",
   "metadata": {},
   "outputs": [],
   "source": [
    "data.sort_values(by=\"timestamp\", inplace=True)"
   ]
  },
  {
   "cell_type": "code",
   "execution_count": 6,
   "id": "0a65c910",
   "metadata": {},
   "outputs": [],
   "source": [
    "data, mapping, inverse_mapping = map_column(data, col_name=\"movieId\")\n",
    "grp_by_train = data.groupby(by=\"userId\")"
   ]
  },
  {
   "cell_type": "code",
   "execution_count": 7,
   "id": "6923b93c",
   "metadata": {},
   "outputs": [
    {
     "data": {
      "text/plain": [
       "[11867, 1897, 5836, 15916, 14346, 24929, 550, 266, 26679, 7951]"
      ]
     },
     "execution_count": 7,
     "metadata": {},
     "output_type": "execute_result"
    }
   ],
   "source": [
    "random.sample(list(grp_by_train.groups), k=10)"
   ]
  },
  {
   "cell_type": "code",
   "execution_count": 8,
   "id": "80c7cc4e",
   "metadata": {},
   "outputs": [
    {
     "data": {
      "text/plain": [
       "<All keys matched successfully>"
      ]
     },
     "execution_count": 8,
     "metadata": {},
     "output_type": "execute_result"
    }
   ],
   "source": [
    "model = Recommender(\n",
    "        vocab_size=len(mapping) + 2,\n",
    "        lr=1e-4,\n",
    "        dropout=0.3,\n",
    "    )\n",
    "model.eval()\n",
    "model.load_state_dict(torch.load(model_path)[\"state_dict\"])"
   ]
  },
  {
   "cell_type": "code",
   "execution_count": 9,
   "id": "997385df",
   "metadata": {},
   "outputs": [],
   "source": [
    "movie_to_idx = {a: mapping[b] for a, b in zip(movies.title.tolist(), movies.movieId.tolist()) if b in mapping}\n",
    "idx_to_movie = {v: k for k, v in movie_to_idx.items()}"
   ]
  },
  {
   "cell_type": "code",
   "execution_count": 10,
   "id": "5b083cd4",
   "metadata": {},
   "outputs": [],
   "source": [
    "def NormalizeData(data):\n",
    "    return (data - np.min(data)) / (np.max(data) - np.min(data))\n",
    "\n",
    "def predict(list_movies, model, movie_to_idx, idx_to_movie):\n",
    "\n",
    "    if type(list_movies[0]) == str:\n",
    "        ids = [PAD] * (120 - len(list_movies) - 1) + [movie_to_idx[a] for a in list_movies] + [MASK]\n",
    "    else:\n",
    "        ids = [PAD] * (120 - len(list_movies) - 1) + list_movies + [MASK]\n",
    "    \n",
    "    src = torch.tensor(ids, dtype=torch.long).unsqueeze(0)\n",
    "    \n",
    "    with torch.no_grad():\n",
    "        prediction = model(src)\n",
    "    \n",
    "    masked_pred = prediction[0, -1].numpy()\n",
    "\n",
    "    masked_pred = NormalizeData(masked_pred)\n",
    "\n",
    "    sorted_predicted_ids = np.argsort(masked_pred).tolist()[::-1]\n",
    "    \n",
    "    sorted_predicted_ids = [a for a in sorted_predicted_ids if a not in ids]\n",
    "    \n",
    "    return [idx_to_movie[a] for a in sorted_predicted_ids[:30] if a in idx_to_movie], [masked_pred[ids] for ids in sorted_predicted_ids[:30]]\n"
   ]
  },
  {
   "cell_type": "markdown",
   "id": "1f0e44c1",
   "metadata": {},
   "source": [
    "### Senario 1: Adventure/Fantasy "
   ]
  },
  {
   "cell_type": "code",
   "execution_count": 11,
   "id": "5dae87be",
   "metadata": {},
   "outputs": [],
   "source": [
    "# list_movies=[\"The Jungle Book\",\n",
    "#             \"The Many Adventures of Winnie the Pooh\",\n",
    "#             \"The Rescuers\",\n",
    "#             \"Cenerentola\", \n",
    "#             \"Peter pan\"]\n",
    "# top_movie = predict(list_movies, model, movie_to_idx, idx_to_movie)\n",
    "# top_movie"
   ]
  },
  {
   "cell_type": "markdown",
   "id": "afb4b657",
   "metadata": {},
   "source": [
    "### Senario 2:  Action/Adventure"
   ]
  },
  {
   "cell_type": "code",
   "execution_count": 12,
   "id": "96f0c5d3",
   "metadata": {},
   "outputs": [
    {
     "data": {
      "text/plain": [
       "(['The Mouse on the Moon',\n",
       "  'Peacemaker',\n",
       "  'Fudoh: The New Generation',\n",
       "  'Nelly and Monsieur Arnaud',\n",
       "  'Time Code',\n",
       "  \"The Odyssey of Life: The Photographer's Secrets: Nova\",\n",
       "  'P.D. James: The Black Tower',\n",
       "  \"Violet's Visit\",\n",
       "  'A Decade Under the Influence',\n",
       "  'Passion of Mind',\n",
       "  'The Broken Hearts Club',\n",
       "  'Iron Chef USA',\n",
       "  'Fushigi Yugi: The Mysterious Play: Eikoden',\n",
       "  'If I Die Before I Wake',\n",
       "  \"Fat Albert's Greatest Hits: The Ultimate Collection\",\n",
       "  'The Golden Bowl',\n",
       "  'Lupin the 3rd: Farewell to Nostradamus',\n",
       "  'El Dorado',\n",
       "  'Rugrats All Grown Up: All Grown Up ... and Loving It!',\n",
       "  'Korn: Deuce',\n",
       "  'Embrace the Darkness 3',\n",
       "  'Gilgamesh',\n",
       "  \"That's the Way I Like It\",\n",
       "  'Rakht',\n",
       "  'Free Tibet',\n",
       "  \"The Hitchhiker's Guide to the Galaxy\",\n",
       "  'Moon Warriors',\n",
       "  'A Cry in the Wild',\n",
       "  'Cover Up',\n",
       "  'Sherlock Holmes'],\n",
       " [1.0,\n",
       "  0.99275494,\n",
       "  0.9842185,\n",
       "  0.9839769,\n",
       "  0.97496986,\n",
       "  0.9729098,\n",
       "  0.9698894,\n",
       "  0.96561843,\n",
       "  0.9607576,\n",
       "  0.9602094,\n",
       "  0.95900613,\n",
       "  0.9557531,\n",
       "  0.95087856,\n",
       "  0.9492026,\n",
       "  0.9475907,\n",
       "  0.9466634,\n",
       "  0.94426006,\n",
       "  0.94260997,\n",
       "  0.9395237,\n",
       "  0.93744564,\n",
       "  0.9371486,\n",
       "  0.9354701,\n",
       "  0.93545145,\n",
       "  0.92695534,\n",
       "  0.92529184,\n",
       "  0.9241643,\n",
       "  0.9230026,\n",
       "  0.91684973,\n",
       "  0.9154824,\n",
       "  0.9140552])"
      ]
     },
     "execution_count": 12,
     "metadata": {},
     "output_type": "execute_result"
    }
   ],
   "source": [
    "list_movies = [\"Spider-Man: The Return of the Green Goblin\",\n",
    "               \"Spider-Man\",\n",
    "               \"Spider-Man: The Venom Saga\",\n",
    "               \"Spider-Man 2: Bonus Material\",\n",
    "               \"X-Men: Evolution: Season 2\"\n",
    "]\n",
    "top_movie = predict(list_movies, model, movie_to_idx, idx_to_movie)\n",
    "top_movie"
   ]
  },
  {
   "cell_type": "markdown",
   "id": "a22ddfeb",
   "metadata": {},
   "source": [
    "### Senario 3: Comedy"
   ]
  },
  {
   "cell_type": "code",
   "execution_count": 13,
   "id": "b3f01cbc",
   "metadata": {},
   "outputs": [],
   "source": [
    "# list_movies = [\"Zootopia (2016)\",\n",
    "#                \"Toy Story 3 (2010)\",\n",
    "#                \"Toy Story 4 (2019)\",\n",
    "#                \"Finding Nemo (2003)\",\n",
    "#                \"Ratatouille (2007)\",\n",
    "#                \"The Lego Movie (2014)\",\n",
    "#                \"Ghostbusters (a.k.a. Ghost Busters) (1984)\",\n",
    "#                \"Ace Ventura: When Nature Calls (1995)\"]\n",
    "# top_movie = predict(list_movies, model, movie_to_idx, idx_to_movie)\n",
    "# top_movie"
   ]
  },
  {
   "cell_type": "markdown",
   "id": "b4ab1a4c",
   "metadata": {},
   "source": [
    "### Evaluation metrics"
   ]
  },
  {
   "cell_type": "code",
   "execution_count": 14,
   "id": "8ba1cb38",
   "metadata": {},
   "outputs": [],
   "source": [
    "random_userId = random.choice(list(set(data.userId)))"
   ]
  },
  {
   "cell_type": "code",
   "execution_count": 15,
   "id": "b8fdf1c6",
   "metadata": {},
   "outputs": [
    {
     "data": {
      "text/plain": [
       "['The Twilight Zone: Vol. 37',\n",
       " 'Digging to China',\n",
       " 'Only You',\n",
       " 'Tycoon: A New Russian',\n",
       " \"Devil's Playground\",\n",
       " 'The Indian in the Cupboard']"
      ]
     },
     "execution_count": 15,
     "metadata": {},
     "output_type": "execute_result"
    }
   ],
   "source": [
    "user_input = list(data[(data.userId == random_userId) & (data.rating == 5)]['movieId'])\n",
    "user_input = [idx_to_movie[a] for a in user_input if a in idx_to_movie]\n",
    "top_movie, test = predict(user_input, model, movie_to_idx, idx_to_movie)\n",
    "count = sum(map(lambda x: x >= 0.95, test))\n",
    "user_input"
   ]
  },
  {
   "cell_type": "code",
   "execution_count": 16,
   "id": "1d1007ca",
   "metadata": {},
   "outputs": [
    {
     "name": "stdout",
     "output_type": "stream",
     "text": [
      "7548\n",
      "997\n",
      "15509\n",
      "11580\n",
      "6979\n",
      "6694\n",
      "15699\n",
      "17001\n",
      "4522\n",
      "14531\n",
      "14974\n",
      "10996\n",
      "27155\n",
      "2753\n",
      "6190\n",
      "9018\n",
      "8640\n",
      "10459\n",
      "1512\n",
      "3174\n",
      "14691\n",
      "17268\n",
      "16736\n",
      "2894\n",
      "12670\n",
      "23670\n",
      "11212\n",
      "18094\n",
      "2781\n",
      "19320\n",
      "24982\n",
      "3941\n",
      "18297\n",
      "17934\n",
      "5112\n",
      "14296\n",
      "13676\n",
      "13725\n",
      "24768\n",
      "19398\n",
      "5031\n",
      "21592\n",
      "22864\n",
      "2913\n",
      "12491\n",
      "7049\n",
      "13894\n",
      "19132\n",
      "7786\n",
      "21084\n",
      "9580\n",
      "25028\n",
      "9270\n",
      "3263\n",
      "7869\n",
      "5966\n",
      "14194\n",
      "19032\n",
      "19592\n",
      "3060\n",
      "15230\n",
      "3010\n",
      "11050\n",
      "5127\n",
      "9005\n",
      "19018\n",
      "6340\n",
      "27281\n",
      "6018\n",
      "6984\n",
      "1726\n",
      "15867\n",
      "8832\n",
      "3611\n",
      "3501\n",
      "3290\n",
      "23463\n",
      "8185\n",
      "25313\n",
      "10422\n",
      "8439\n",
      "17707\n",
      "9872\n",
      "1520\n",
      "12702\n",
      "12915\n",
      "8464\n",
      "14998\n",
      "27169\n",
      "10896\n",
      "23811\n",
      "21174\n",
      "3937\n",
      "16443\n",
      "25771\n",
      "9186\n",
      "20181\n",
      "20203\n",
      "17082\n",
      "413\n",
      "692\n",
      "8249\n",
      "7699\n",
      "3784\n",
      "19422\n",
      "3024\n",
      "5516\n",
      "20522\n",
      "17190\n",
      "3741\n",
      "13945\n",
      "6900\n",
      "4658\n",
      "2242\n",
      "25171\n",
      "18230\n",
      "9128\n",
      "21201\n",
      "1933\n",
      "13190\n",
      "8270\n",
      "12173\n",
      "22334\n",
      "2276\n",
      "26506\n",
      "23405\n",
      "7009\n"
     ]
    }
   ],
   "source": [
    "count = 0\n",
    "for userId in data.userId.unique():\n",
    "    user_input = list(data[(data.userId == userId) & (data.rating == 5)]['movieId'])\n",
    "    user_input = [idx_to_movie[a] for a in user_input if a in idx_to_movie]\n",
    "    if len(user_input) == 0:\n",
    "        print(userId)\n",
    "        continue\n",
    "    elif len(user_input) >= 512:\n",
    "        user_input = user_input[:511]\n",
    "    top_movie, test = predict(user_input, model, movie_to_idx, idx_to_movie)\n",
    "    count += sum(map(lambda x: x >= 0.95, test))\n",
    "    "
   ]
  },
  {
   "cell_type": "code",
   "execution_count": 17,
   "id": "03c37500",
   "metadata": {},
   "outputs": [
    {
     "data": {
      "text/plain": [
       "70319"
      ]
     },
     "execution_count": 17,
     "metadata": {},
     "output_type": "execute_result"
    }
   ],
   "source": [
    "count"
   ]
  },
  {
   "cell_type": "code",
   "execution_count": 18,
   "id": "2be2d53b",
   "metadata": {},
   "outputs": [
    {
     "data": {
      "text/plain": [
       "0.49892862210869876"
      ]
     },
     "execution_count": 18,
     "metadata": {},
     "output_type": "execute_result"
    }
   ],
   "source": [
    "count / (len(data.userId.unique())*30)"
   ]
  },
  {
   "cell_type": "code",
   "execution_count": 19,
   "id": "bc79fa72",
   "metadata": {},
   "outputs": [
    {
     "data": {
      "text/plain": [
       "4698"
      ]
     },
     "execution_count": 19,
     "metadata": {},
     "output_type": "execute_result"
    }
   ],
   "source": [
    "len(data.userId.unique())"
   ]
  },
  {
   "cell_type": "code",
   "execution_count": 20,
   "id": "502a07ec",
   "metadata": {},
   "outputs": [],
   "source": [
    "# for movie in user_input:\n",
    "# movies[(movies.movieId==14621)]['title']"
   ]
  }
 ],
 "metadata": {
  "interpreter": {
   "hash": "35837bed001a552ea18a2016491a34b07d00877baa2cfdf9bc5c672196725067"
  },
  "kernelspec": {
   "display_name": "Python 3.8.13 ('wimu_mini')",
   "language": "python",
   "name": "python3"
  },
  "language_info": {
   "codemirror_mode": {
    "name": "ipython",
    "version": 3
   },
   "file_extension": ".py",
   "mimetype": "text/x-python",
   "name": "python",
   "nbconvert_exporter": "python",
   "pygments_lexer": "ipython3",
   "version": "3.8.13"
  }
 },
 "nbformat": 4,
 "nbformat_minor": 5
}
