{
 "cells": [
  {
   "cell_type": "code",
   "execution_count": 41,
   "id": "bda8cfe0",
   "metadata": {},
   "outputs": [],
   "source": [
    "import random\n",
    "import json\n",
    "import numpy as np\n",
    "import pandas as pd\n",
    "import pytorch_lightning as pl\n",
    "import torch\n",
    "from pytorch_lightning.callbacks import ModelCheckpoint\n",
    "from pytorch_lightning.loggers import TensorBoardLogger\n",
    "from torch.utils.data import DataLoader\n",
    "\n",
    "from recommender.models import Recommender\n",
    "from recommender.data_processing import get_context, pad_list, map_column, MASK, PAD\n"
   ]
  },
  {
   "cell_type": "code",
   "execution_count": 42,
   "id": "236be942",
   "metadata": {},
   "outputs": [
    {
     "name": "stdout",
     "output_type": "stream",
     "text": [
      "Device tensor is stored on: cpu\n",
      "True\n",
      "Device tensor is stored on: cuda:0\n"
     ]
    }
   ],
   "source": [
    "import torch\n",
    "tensor = torch.rand(3,4)\n",
    "print(f\"Device tensor is stored on: {tensor.device}\")\n",
    "# Device tensor is stored on: cpu\n",
    "\n",
    "print(torch.cuda.is_available())\n",
    "#True\n",
    "\n",
    "tensor = tensor.to('cuda')\n",
    "print(f\"Device tensor is stored on: {tensor.device}\")\n",
    "# Device tensor is stored on: cuda:0"
   ]
  },
  {
   "cell_type": "code",
   "execution_count": 43,
   "id": "f687dde3",
   "metadata": {},
   "outputs": [],
   "source": [
    "# 檔案路徑\n",
    "data_csv_path = \"../Data/disney_review_dataset/disney_data.csv\"\n",
    "movies_path = \"../Data/disney_review_dataset/disney_movie.csv\"\n",
    "model_path = \"../recommender_models/recommender-v5.ckpt\""
   ]
  },
  {
   "cell_type": "code",
   "execution_count": 44,
   "id": "cac77364",
   "metadata": {},
   "outputs": [],
   "source": [
    "data = pd.read_csv(data_csv_path)\n",
    "movies = pd.read_csv(movies_path)\n"
   ]
  },
  {
   "cell_type": "code",
   "execution_count": 45,
   "id": "bb1a33bd",
   "metadata": {},
   "outputs": [],
   "source": [
    "data.sort_values(by=\"timestamp\", inplace=True)"
   ]
  },
  {
   "cell_type": "code",
   "execution_count": 46,
   "id": "0a65c910",
   "metadata": {},
   "outputs": [],
   "source": [
    "data, mapping, inverse_mapping = map_column(data, col_name=\"movieId\")\n",
    "grp_by_train = data.groupby(by=\"userId\")"
   ]
  },
  {
   "cell_type": "code",
   "execution_count": 47,
   "id": "6923b93c",
   "metadata": {},
   "outputs": [
    {
     "data": {
      "text/plain": [
       "[512, 405, 4673, 42, 821, 1564, 2358, 700, 3803, 746]"
      ]
     },
     "execution_count": 47,
     "metadata": {},
     "output_type": "execute_result"
    }
   ],
   "source": [
    "random.sample(list(grp_by_train.groups), k=10)"
   ]
  },
  {
   "cell_type": "code",
   "execution_count": 48,
   "id": "80c7cc4e",
   "metadata": {},
   "outputs": [
    {
     "data": {
      "text/plain": [
       "<All keys matched successfully>"
      ]
     },
     "execution_count": 48,
     "metadata": {},
     "output_type": "execute_result"
    }
   ],
   "source": [
    "model = Recommender(\n",
    "        vocab_size=len(mapping) + 2,\n",
    "        lr=1e-4,\n",
    "        dropout=0.3,\n",
    "    )\n",
    "model.eval()\n",
    "model.load_state_dict(torch.load(model_path)[\"state_dict\"])"
   ]
  },
  {
   "cell_type": "code",
   "execution_count": 49,
   "id": "997385df",
   "metadata": {},
   "outputs": [],
   "source": [
    "movie_to_idx = {a: mapping[b] for a, b in zip(movies.title.tolist(), movies.movieId.tolist()) if b in mapping}\n",
    "idx_to_movie = {v: k for k, v in movie_to_idx.items()}"
   ]
  },
  {
   "cell_type": "code",
   "execution_count": 50,
   "id": "5b083cd4",
   "metadata": {},
   "outputs": [],
   "source": [
    "def NormalizeData(data):\n",
    "    return (data - np.min(data)) / (np.max(data) - np.min(data))\n",
    "\n",
    "def predict(list_movies, model, movie_to_idx, idx_to_movie):\n",
    "\n",
    "    if type(list_movies[0]) == str:\n",
    "        ids = [PAD] * (120 - len(list_movies) - 1) + [movie_to_idx[a] for a in list_movies] + [MASK]\n",
    "    else:\n",
    "        ids = [PAD] * (120 - len(list_movies) - 1) + list_movies + [MASK]\n",
    "    \n",
    "    src = torch.tensor(ids, dtype=torch.long).unsqueeze(0)\n",
    "    \n",
    "    with torch.no_grad():\n",
    "        prediction = model(src)\n",
    "    \n",
    "    masked_pred = prediction[0, -1].numpy()\n",
    "\n",
    "    masked_pred = NormalizeData(masked_pred)\n",
    "\n",
    "    sorted_predicted_ids = np.argsort(masked_pred).tolist()[::-1]\n",
    "    \n",
    "    sorted_predicted_ids = [a for a in sorted_predicted_ids if a not in ids]\n",
    "    \n",
    "    return [idx_to_movie[a] for a in sorted_predicted_ids[:30] if a in idx_to_movie], [masked_pred[ids] for ids in sorted_predicted_ids[:30]]\n"
   ]
  },
  {
   "cell_type": "markdown",
   "id": "1f0e44c1",
   "metadata": {},
   "source": [
    "### Senario 1: Adventure/Fantasy "
   ]
  },
  {
   "cell_type": "code",
   "execution_count": 51,
   "id": "5dae87be",
   "metadata": {},
   "outputs": [
    {
     "data": {
      "text/plain": [
       "(['The Lion King',\n",
       "  'Frozen',\n",
       "  'Aladdin',\n",
       "  'Brave',\n",
       "  'Mary Poppins',\n",
       "  'The Little Mermaid',\n",
       "  'Spirited Away',\n",
       "  'Tangled',\n",
       "  'La Spada nella Roccia',\n",
       "  'Lilo & Stitch',\n",
       "  'The Aristocats',\n",
       "  'Hercules',\n",
       "  'Alice nel paese delle meraviglie',\n",
       "  \"The Emperor's New Groove\",\n",
       "  'Tron',\n",
       "  'Oliver & Company'],\n",
       " [1.0,\n",
       "  0.9710052,\n",
       "  0.8980285,\n",
       "  0.88993794,\n",
       "  0.87414,\n",
       "  0.8503206,\n",
       "  0.82987887,\n",
       "  0.8160051,\n",
       "  0.7623366,\n",
       "  0.7595384,\n",
       "  0.7440562,\n",
       "  0.72997916,\n",
       "  0.6719828,\n",
       "  0.6716829,\n",
       "  0.6304037,\n",
       "  0.62849647])"
      ]
     },
     "execution_count": 51,
     "metadata": {},
     "output_type": "execute_result"
    }
   ],
   "source": [
    "list_movies=[\"The Jungle Book\",\n",
    "            \"The Many Adventures of Winnie the Pooh\",\n",
    "            \"The Rescuers\",\n",
    "            \"Cenerentola\", \n",
    "            \"Peter pan\"]\n",
    "top_movie = predict(list_movies, model, movie_to_idx, idx_to_movie)\n",
    "top_movie"
   ]
  },
  {
   "cell_type": "markdown",
   "id": "afb4b657",
   "metadata": {},
   "source": [
    "### Senario 2:  Action/Adventure"
   ]
  },
  {
   "cell_type": "code",
   "execution_count": 52,
   "id": "96f0c5d3",
   "metadata": {},
   "outputs": [],
   "source": [
    "# list_movies = [\"Spider-Man: The Return of the Green Goblin\",\n",
    "#                \"Spider-Man\",\n",
    "#                \"Spider-Man: The Venom Saga\",\n",
    "#                \"Spider-Man 2: Bonus Material\",\n",
    "#                \"X-Men: Evolution: Season 2\"\n",
    "# ]\n",
    "# top_movie = predict(list_movies, model, movie_to_idx, idx_to_movie)\n",
    "# top_movie"
   ]
  },
  {
   "cell_type": "markdown",
   "id": "a22ddfeb",
   "metadata": {},
   "source": [
    "### Senario 3: Comedy"
   ]
  },
  {
   "cell_type": "code",
   "execution_count": 53,
   "id": "b3f01cbc",
   "metadata": {},
   "outputs": [],
   "source": [
    "# list_movies = [\"Zootopia (2016)\",\n",
    "#                \"Toy Story 3 (2010)\",\n",
    "#                \"Toy Story 4 (2019)\",\n",
    "#                \"Finding Nemo (2003)\",\n",
    "#                \"Ratatouille (2007)\",\n",
    "#                \"The Lego Movie (2014)\",\n",
    "#                \"Ghostbusters (a.k.a. Ghost Busters) (1984)\",\n",
    "#                \"Ace Ventura: When Nature Calls (1995)\"]\n",
    "# top_movie = predict(list_movies, model, movie_to_idx, idx_to_movie)\n",
    "# top_movie"
   ]
  },
  {
   "cell_type": "markdown",
   "id": "b4ab1a4c",
   "metadata": {},
   "source": [
    "### Evaluation metrics"
   ]
  },
  {
   "cell_type": "code",
   "execution_count": 54,
   "id": "8ba1cb38",
   "metadata": {},
   "outputs": [],
   "source": [
    "random_userId = random.choice(list(set(data.userId)))"
   ]
  },
  {
   "cell_type": "code",
   "execution_count": 55,
   "id": "b8fdf1c6",
   "metadata": {},
   "outputs": [
    {
     "data": {
      "text/plain": [
       "['Lilo & Stitch', 'Tron']"
      ]
     },
     "execution_count": 55,
     "metadata": {},
     "output_type": "execute_result"
    }
   ],
   "source": [
    "user_input = list(data[(data.userId == random_userId) & (data.rating == 5)]['movieId'])\n",
    "user_input = [idx_to_movie[a] for a in user_input if a in idx_to_movie]\n",
    "top_movie, test = predict(user_input, model, movie_to_idx, idx_to_movie)\n",
    "count = sum(map(lambda x: x >= 0.95, test))\n",
    "user_input"
   ]
  },
  {
   "cell_type": "code",
   "execution_count": 56,
   "id": "1d1007ca",
   "metadata": {},
   "outputs": [
    {
     "name": "stdout",
     "output_type": "stream",
     "text": [
      "303\n",
      "885\n",
      "645\n",
      "1485\n",
      "1561\n",
      "2227\n",
      "684\n",
      "2597\n",
      "830\n",
      "394\n",
      "2834\n",
      "1090\n",
      "1182\n",
      "836\n",
      "301\n",
      "1594\n",
      "1564\n",
      "491\n",
      "407\n",
      "127\n",
      "785\n",
      "2579\n",
      "2467\n",
      "2487\n",
      "247\n",
      "264\n",
      "451\n",
      "474\n",
      "495\n",
      "319\n",
      "236\n",
      "1554\n",
      "1565\n",
      "2305\n",
      "234\n",
      "3881\n",
      "4065\n",
      "222\n",
      "45\n",
      "571\n",
      "4420\n",
      "4161\n",
      "1100\n",
      "727\n",
      "1595\n",
      "1050\n",
      "4449\n",
      "1582\n",
      "1065\n",
      "359\n",
      "1562\n",
      "1054\n",
      "4003\n",
      "504\n",
      "2346\n",
      "511\n",
      "3954\n",
      "4103\n",
      "265\n",
      "4178\n",
      "1331\n",
      "268\n",
      "3702\n",
      "1338\n",
      "220\n",
      "347\n",
      "56\n",
      "203\n",
      "87\n",
      "2853\n",
      "262\n",
      "489\n",
      "209\n",
      "567\n",
      "388\n",
      "1082\n",
      "389\n",
      "219\n",
      "1512\n",
      "162\n",
      "228\n",
      "643\n",
      "434\n",
      "414\n",
      "235\n",
      "217\n",
      "705\n",
      "762\n",
      "4469\n",
      "786\n",
      "227\n",
      "771\n",
      "253\n",
      "1350\n",
      "1335\n",
      "503\n",
      "957\n",
      "361\n",
      "2620\n",
      "1358\n",
      "777\n",
      "409\n",
      "32\n",
      "778\n",
      "1603\n",
      "2488\n",
      "1319\n",
      "772\n",
      "199\n",
      "734\n",
      "37\n",
      "4778\n",
      "4844\n",
      "1337\n",
      "1307\n",
      "125\n",
      "1366\n",
      "4676\n",
      "271\n",
      "4837\n",
      "2840\n",
      "4843\n",
      "4729\n",
      "128\n",
      "413\n",
      "259\n",
      "4140\n",
      "4810\n",
      "2622\n",
      "4833\n",
      "4824\n",
      "4842\n",
      "4175\n",
      "5121\n",
      "4172\n",
      "1286\n",
      "5196\n",
      "5170\n",
      "5183\n",
      "5201\n",
      "5087\n",
      "5050\n",
      "5148\n",
      "512\n",
      "507\n",
      "5186\n",
      "5199\n",
      "100\n",
      "358\n",
      "62\n",
      "502\n",
      "912\n",
      "4399\n",
      "4832\n",
      "787\n",
      "189\n",
      "839\n",
      "122\n",
      "4929\n",
      "4113\n",
      "4960\n",
      "665\n",
      "4724\n",
      "700\n",
      "2379\n",
      "880\n",
      "1352\n",
      "2861\n",
      "5195\n",
      "286\n",
      "2616\n",
      "5192\n",
      "270\n",
      "4979\n",
      "756\n",
      "826\n",
      "5101\n",
      "42\n",
      "1070\n",
      "2858\n",
      "4571\n",
      "4704\n",
      "911\n",
      "1019\n",
      "229\n",
      "1064\n",
      "363\n",
      "4430\n",
      "879\n",
      "41\n",
      "2614\n",
      "5006\n",
      "57\n",
      "877\n",
      "305\n",
      "2485\n",
      "126\n",
      "2322\n",
      "348\n",
      "993\n",
      "4743\n",
      "1621\n",
      "67\n",
      "1087\n",
      "460\n",
      "5091\n",
      "24\n",
      "1573\n",
      "5488\n",
      "115\n",
      "730\n",
      "2868\n",
      "4122\n",
      "244\n",
      "1414\n",
      "4755\n",
      "698\n",
      "4746\n",
      "404\n",
      "2352\n",
      "482\n",
      "837\n",
      "1038\n",
      "77\n",
      "760\n",
      "5184\n",
      "1611\n",
      "4110\n",
      "1102\n",
      "2335\n",
      "1098\n",
      "1616\n",
      "1042\n",
      "832\n",
      "494\n",
      "83\n",
      "2623\n",
      "117\n",
      "1088\n",
      "349\n",
      "1617\n",
      "1362\n",
      "1591\n",
      "4041\n",
      "876\n",
      "124\n",
      "211\n",
      "5085\n",
      "322\n",
      "3926\n",
      "2333\n",
      "2278\n",
      "4776\n",
      "767\n",
      "4767\n",
      "1540\n",
      "5082\n",
      "5095\n",
      "99\n",
      "5098\n",
      "2578\n",
      "2276\n",
      "1277\n",
      "393\n",
      "4033\n",
      "840\n",
      "754\n",
      "2465\n",
      "63\n",
      "410\n",
      "1511\n",
      "1601\n",
      "26\n",
      "1079\n"
     ]
    }
   ],
   "source": [
    "count = 0\n",
    "for userId in data.userId.unique():\n",
    "    user_input = list(data[(data.userId == userId) & (data.rating == 5)]['movieId'])\n",
    "    user_input = [idx_to_movie[a] for a in user_input if a in idx_to_movie]\n",
    "    if len(user_input) == 0:\n",
    "        print(userId)\n",
    "        continue\n",
    "    elif len(user_input) >= 512:\n",
    "        user_input = user_input[:511]\n",
    "    top_movie, test = predict(user_input, model, movie_to_idx, idx_to_movie)\n",
    "    count += sum(map(lambda x: x >= 0.95, test))\n",
    "    "
   ]
  },
  {
   "cell_type": "code",
   "execution_count": 57,
   "id": "03c37500",
   "metadata": {},
   "outputs": [
    {
     "data": {
      "text/plain": [
       "1041"
      ]
     },
     "execution_count": 57,
     "metadata": {},
     "output_type": "execute_result"
    }
   ],
   "source": [
    "count"
   ]
  },
  {
   "cell_type": "code",
   "execution_count": 58,
   "id": "2be2d53b",
   "metadata": {},
   "outputs": [
    {
     "data": {
      "text/plain": [
       "0.04242053789731051"
      ]
     },
     "execution_count": 58,
     "metadata": {},
     "output_type": "execute_result"
    }
   ],
   "source": [
    "count / (len(data.userId.unique())*30)"
   ]
  },
  {
   "cell_type": "code",
   "execution_count": 59,
   "id": "bc79fa72",
   "metadata": {},
   "outputs": [
    {
     "data": {
      "text/plain": [
       "818"
      ]
     },
     "execution_count": 59,
     "metadata": {},
     "output_type": "execute_result"
    }
   ],
   "source": [
    "len(data.userId.unique())"
   ]
  },
  {
   "cell_type": "code",
   "execution_count": 60,
   "id": "502a07ec",
   "metadata": {},
   "outputs": [],
   "source": [
    "# for movie in user_input:\n",
    "# movies[(movies.movieId==14621)]['title']"
   ]
  }
 ],
 "metadata": {
  "interpreter": {
   "hash": "35837bed001a552ea18a2016491a34b07d00877baa2cfdf9bc5c672196725067"
  },
  "kernelspec": {
   "display_name": "Python 3.8.13 ('wimu_mini')",
   "language": "python",
   "name": "python3"
  },
  "language_info": {
   "codemirror_mode": {
    "name": "ipython",
    "version": 3
   },
   "file_extension": ".py",
   "mimetype": "text/x-python",
   "name": "python",
   "nbconvert_exporter": "python",
   "pygments_lexer": "ipython3",
   "version": "3.8.13"
  }
 },
 "nbformat": 4,
 "nbformat_minor": 5
}
